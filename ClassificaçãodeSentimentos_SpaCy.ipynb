{
  "nbformat": 4,
  "nbformat_minor": 0,
  "metadata": {
    "colab": {
      "provenance": [],
      "collapsed_sections": [
        "4MES7nyd6UBq",
        "PjEVAhzH5QL6",
        "smyaGPof5iSh"
      ],
      "authorship_tag": "ABX9TyMoErf2Rc+QyRZ2PYrT2Lha",
      "include_colab_link": true
    },
    "kernelspec": {
      "name": "python3",
      "display_name": "Python 3"
    },
    "language_info": {
      "name": "python"
    }
  },
  "cells": [
    {
      "cell_type": "markdown",
      "metadata": {
        "id": "view-in-github",
        "colab_type": "text"
      },
      "source": [
        "<a href=\"https://colab.research.google.com/github/Dudukrop/Classifica-odeSentimentos_SpaCy/blob/main/Classifica%C3%A7%C3%A3odeSentimentos_SpaCy.ipynb\" target=\"_parent\"><img src=\"https://colab.research.google.com/assets/colab-badge.svg\" alt=\"Open In Colab\"/></a>"
      ]
    },
    {
      "cell_type": "markdown",
      "source": [
        "# **CARREGAMENTO DA BASE**"
      ],
      "metadata": {
        "id": "4MES7nyd6UBq"
      }
    },
    {
      "cell_type": "code",
      "execution_count": null,
      "metadata": {
        "colab": {
          "base_uri": "https://localhost:8080/"
        },
        "id": "IGeDwHcZxJTY",
        "outputId": "21c11a7a-196d-4b97-f2e4-7b08b1ab9e12"
      },
      "outputs": [
        {
          "output_type": "stream",
          "name": "stdout",
          "text": [
            "Requirement already satisfied: spacy in /usr/local/lib/python3.10/dist-packages (3.7.5)\n",
            "Requirement already satisfied: spacy-legacy<3.1.0,>=3.0.11 in /usr/local/lib/python3.10/dist-packages (from spacy) (3.0.12)\n",
            "Requirement already satisfied: spacy-loggers<2.0.0,>=1.0.0 in /usr/local/lib/python3.10/dist-packages (from spacy) (1.0.5)\n",
            "Requirement already satisfied: murmurhash<1.1.0,>=0.28.0 in /usr/local/lib/python3.10/dist-packages (from spacy) (1.0.10)\n",
            "Requirement already satisfied: cymem<2.1.0,>=2.0.2 in /usr/local/lib/python3.10/dist-packages (from spacy) (2.0.8)\n",
            "Requirement already satisfied: preshed<3.1.0,>=3.0.2 in /usr/local/lib/python3.10/dist-packages (from spacy) (3.0.9)\n",
            "Requirement already satisfied: thinc<8.3.0,>=8.2.2 in /usr/local/lib/python3.10/dist-packages (from spacy) (8.2.5)\n",
            "Requirement already satisfied: wasabi<1.2.0,>=0.9.1 in /usr/local/lib/python3.10/dist-packages (from spacy) (1.1.3)\n",
            "Requirement already satisfied: srsly<3.0.0,>=2.4.3 in /usr/local/lib/python3.10/dist-packages (from spacy) (2.4.8)\n",
            "Requirement already satisfied: catalogue<2.1.0,>=2.0.6 in /usr/local/lib/python3.10/dist-packages (from spacy) (2.0.10)\n",
            "Requirement already satisfied: weasel<0.5.0,>=0.1.0 in /usr/local/lib/python3.10/dist-packages (from spacy) (0.4.1)\n",
            "Requirement already satisfied: typer<1.0.0,>=0.3.0 in /usr/local/lib/python3.10/dist-packages (from spacy) (0.12.3)\n",
            "Requirement already satisfied: tqdm<5.0.0,>=4.38.0 in /usr/local/lib/python3.10/dist-packages (from spacy) (4.66.5)\n",
            "Requirement already satisfied: requests<3.0.0,>=2.13.0 in /usr/local/lib/python3.10/dist-packages (from spacy) (2.32.3)\n",
            "Requirement already satisfied: pydantic!=1.8,!=1.8.1,<3.0.0,>=1.7.4 in /usr/local/lib/python3.10/dist-packages (from spacy) (2.8.2)\n",
            "Requirement already satisfied: jinja2 in /usr/local/lib/python3.10/dist-packages (from spacy) (3.1.4)\n",
            "Requirement already satisfied: setuptools in /usr/local/lib/python3.10/dist-packages (from spacy) (71.0.4)\n",
            "Requirement already satisfied: packaging>=20.0 in /usr/local/lib/python3.10/dist-packages (from spacy) (24.1)\n",
            "Requirement already satisfied: langcodes<4.0.0,>=3.2.0 in /usr/local/lib/python3.10/dist-packages (from spacy) (3.4.0)\n",
            "Requirement already satisfied: numpy>=1.19.0 in /usr/local/lib/python3.10/dist-packages (from spacy) (1.26.4)\n",
            "Requirement already satisfied: language-data>=1.2 in /usr/local/lib/python3.10/dist-packages (from langcodes<4.0.0,>=3.2.0->spacy) (1.2.0)\n",
            "Requirement already satisfied: annotated-types>=0.4.0 in /usr/local/lib/python3.10/dist-packages (from pydantic!=1.8,!=1.8.1,<3.0.0,>=1.7.4->spacy) (0.7.0)\n",
            "Requirement already satisfied: pydantic-core==2.20.1 in /usr/local/lib/python3.10/dist-packages (from pydantic!=1.8,!=1.8.1,<3.0.0,>=1.7.4->spacy) (2.20.1)\n",
            "Requirement already satisfied: typing-extensions>=4.6.1 in /usr/local/lib/python3.10/dist-packages (from pydantic!=1.8,!=1.8.1,<3.0.0,>=1.7.4->spacy) (4.12.2)\n",
            "Requirement already satisfied: charset-normalizer<4,>=2 in /usr/local/lib/python3.10/dist-packages (from requests<3.0.0,>=2.13.0->spacy) (3.3.2)\n",
            "Requirement already satisfied: idna<4,>=2.5 in /usr/local/lib/python3.10/dist-packages (from requests<3.0.0,>=2.13.0->spacy) (3.7)\n",
            "Requirement already satisfied: urllib3<3,>=1.21.1 in /usr/local/lib/python3.10/dist-packages (from requests<3.0.0,>=2.13.0->spacy) (2.0.7)\n",
            "Requirement already satisfied: certifi>=2017.4.17 in /usr/local/lib/python3.10/dist-packages (from requests<3.0.0,>=2.13.0->spacy) (2024.7.4)\n",
            "Requirement already satisfied: blis<0.8.0,>=0.7.8 in /usr/local/lib/python3.10/dist-packages (from thinc<8.3.0,>=8.2.2->spacy) (0.7.11)\n",
            "Requirement already satisfied: confection<1.0.0,>=0.0.1 in /usr/local/lib/python3.10/dist-packages (from thinc<8.3.0,>=8.2.2->spacy) (0.1.5)\n",
            "Requirement already satisfied: click>=8.0.0 in /usr/local/lib/python3.10/dist-packages (from typer<1.0.0,>=0.3.0->spacy) (8.1.7)\n",
            "Requirement already satisfied: shellingham>=1.3.0 in /usr/local/lib/python3.10/dist-packages (from typer<1.0.0,>=0.3.0->spacy) (1.5.4)\n",
            "Requirement already satisfied: rich>=10.11.0 in /usr/local/lib/python3.10/dist-packages (from typer<1.0.0,>=0.3.0->spacy) (13.7.1)\n",
            "Requirement already satisfied: cloudpathlib<1.0.0,>=0.7.0 in /usr/local/lib/python3.10/dist-packages (from weasel<0.5.0,>=0.1.0->spacy) (0.18.1)\n",
            "Requirement already satisfied: smart-open<8.0.0,>=5.2.1 in /usr/local/lib/python3.10/dist-packages (from weasel<0.5.0,>=0.1.0->spacy) (7.0.4)\n",
            "Requirement already satisfied: MarkupSafe>=2.0 in /usr/local/lib/python3.10/dist-packages (from jinja2->spacy) (2.1.5)\n",
            "Requirement already satisfied: marisa-trie>=0.7.7 in /usr/local/lib/python3.10/dist-packages (from language-data>=1.2->langcodes<4.0.0,>=3.2.0->spacy) (1.2.0)\n",
            "Requirement already satisfied: markdown-it-py>=2.2.0 in /usr/local/lib/python3.10/dist-packages (from rich>=10.11.0->typer<1.0.0,>=0.3.0->spacy) (3.0.0)\n",
            "Requirement already satisfied: pygments<3.0.0,>=2.13.0 in /usr/local/lib/python3.10/dist-packages (from rich>=10.11.0->typer<1.0.0,>=0.3.0->spacy) (2.16.1)\n",
            "Requirement already satisfied: wrapt in /usr/local/lib/python3.10/dist-packages (from smart-open<8.0.0,>=5.2.1->weasel<0.5.0,>=0.1.0->spacy) (1.16.0)\n",
            "Requirement already satisfied: mdurl~=0.1 in /usr/local/lib/python3.10/dist-packages (from markdown-it-py>=2.2.0->rich>=10.11.0->typer<1.0.0,>=0.3.0->spacy) (0.1.2)\n"
          ]
        }
      ],
      "source": [
        "!pip install spacy"
      ]
    },
    {
      "cell_type": "code",
      "source": [
        "!python3 -m spacy download pt_core_news_sm"
      ],
      "metadata": {
        "colab": {
          "base_uri": "https://localhost:8080/"
        },
        "id": "3AXYZwLExSPK",
        "outputId": "29004aa4-af62-4a89-90d6-fc52e922bfbc"
      },
      "execution_count": null,
      "outputs": [
        {
          "output_type": "stream",
          "name": "stdout",
          "text": [
            "Collecting pt-core-news-sm==3.7.0\n",
            "  Downloading https://github.com/explosion/spacy-models/releases/download/pt_core_news_sm-3.7.0/pt_core_news_sm-3.7.0-py3-none-any.whl (13.0 MB)\n",
            "\u001b[2K     \u001b[90m━━━━━━━━━━━━━━━━━━━━━━━━━━━━━━━━━━━━━━━━\u001b[0m \u001b[32m13.0/13.0 MB\u001b[0m \u001b[31m48.5 MB/s\u001b[0m eta \u001b[36m0:00:00\u001b[0m\n",
            "\u001b[?25hRequirement already satisfied: spacy<3.8.0,>=3.7.0 in /usr/local/lib/python3.10/dist-packages (from pt-core-news-sm==3.7.0) (3.7.5)\n",
            "Requirement already satisfied: spacy-legacy<3.1.0,>=3.0.11 in /usr/local/lib/python3.10/dist-packages (from spacy<3.8.0,>=3.7.0->pt-core-news-sm==3.7.0) (3.0.12)\n",
            "Requirement already satisfied: spacy-loggers<2.0.0,>=1.0.0 in /usr/local/lib/python3.10/dist-packages (from spacy<3.8.0,>=3.7.0->pt-core-news-sm==3.7.0) (1.0.5)\n",
            "Requirement already satisfied: murmurhash<1.1.0,>=0.28.0 in /usr/local/lib/python3.10/dist-packages (from spacy<3.8.0,>=3.7.0->pt-core-news-sm==3.7.0) (1.0.10)\n",
            "Requirement already satisfied: cymem<2.1.0,>=2.0.2 in /usr/local/lib/python3.10/dist-packages (from spacy<3.8.0,>=3.7.0->pt-core-news-sm==3.7.0) (2.0.8)\n",
            "Requirement already satisfied: preshed<3.1.0,>=3.0.2 in /usr/local/lib/python3.10/dist-packages (from spacy<3.8.0,>=3.7.0->pt-core-news-sm==3.7.0) (3.0.9)\n",
            "Requirement already satisfied: thinc<8.3.0,>=8.2.2 in /usr/local/lib/python3.10/dist-packages (from spacy<3.8.0,>=3.7.0->pt-core-news-sm==3.7.0) (8.2.5)\n",
            "Requirement already satisfied: wasabi<1.2.0,>=0.9.1 in /usr/local/lib/python3.10/dist-packages (from spacy<3.8.0,>=3.7.0->pt-core-news-sm==3.7.0) (1.1.3)\n",
            "Requirement already satisfied: srsly<3.0.0,>=2.4.3 in /usr/local/lib/python3.10/dist-packages (from spacy<3.8.0,>=3.7.0->pt-core-news-sm==3.7.0) (2.4.8)\n",
            "Requirement already satisfied: catalogue<2.1.0,>=2.0.6 in /usr/local/lib/python3.10/dist-packages (from spacy<3.8.0,>=3.7.0->pt-core-news-sm==3.7.0) (2.0.10)\n",
            "Requirement already satisfied: weasel<0.5.0,>=0.1.0 in /usr/local/lib/python3.10/dist-packages (from spacy<3.8.0,>=3.7.0->pt-core-news-sm==3.7.0) (0.4.1)\n",
            "Requirement already satisfied: typer<1.0.0,>=0.3.0 in /usr/local/lib/python3.10/dist-packages (from spacy<3.8.0,>=3.7.0->pt-core-news-sm==3.7.0) (0.12.3)\n",
            "Requirement already satisfied: tqdm<5.0.0,>=4.38.0 in /usr/local/lib/python3.10/dist-packages (from spacy<3.8.0,>=3.7.0->pt-core-news-sm==3.7.0) (4.66.5)\n",
            "Requirement already satisfied: requests<3.0.0,>=2.13.0 in /usr/local/lib/python3.10/dist-packages (from spacy<3.8.0,>=3.7.0->pt-core-news-sm==3.7.0) (2.32.3)\n",
            "Requirement already satisfied: pydantic!=1.8,!=1.8.1,<3.0.0,>=1.7.4 in /usr/local/lib/python3.10/dist-packages (from spacy<3.8.0,>=3.7.0->pt-core-news-sm==3.7.0) (2.8.2)\n",
            "Requirement already satisfied: jinja2 in /usr/local/lib/python3.10/dist-packages (from spacy<3.8.0,>=3.7.0->pt-core-news-sm==3.7.0) (3.1.4)\n",
            "Requirement already satisfied: setuptools in /usr/local/lib/python3.10/dist-packages (from spacy<3.8.0,>=3.7.0->pt-core-news-sm==3.7.0) (71.0.4)\n",
            "Requirement already satisfied: packaging>=20.0 in /usr/local/lib/python3.10/dist-packages (from spacy<3.8.0,>=3.7.0->pt-core-news-sm==3.7.0) (24.1)\n",
            "Requirement already satisfied: langcodes<4.0.0,>=3.2.0 in /usr/local/lib/python3.10/dist-packages (from spacy<3.8.0,>=3.7.0->pt-core-news-sm==3.7.0) (3.4.0)\n",
            "Requirement already satisfied: numpy>=1.19.0 in /usr/local/lib/python3.10/dist-packages (from spacy<3.8.0,>=3.7.0->pt-core-news-sm==3.7.0) (1.26.4)\n",
            "Requirement already satisfied: language-data>=1.2 in /usr/local/lib/python3.10/dist-packages (from langcodes<4.0.0,>=3.2.0->spacy<3.8.0,>=3.7.0->pt-core-news-sm==3.7.0) (1.2.0)\n",
            "Requirement already satisfied: annotated-types>=0.4.0 in /usr/local/lib/python3.10/dist-packages (from pydantic!=1.8,!=1.8.1,<3.0.0,>=1.7.4->spacy<3.8.0,>=3.7.0->pt-core-news-sm==3.7.0) (0.7.0)\n",
            "Requirement already satisfied: pydantic-core==2.20.1 in /usr/local/lib/python3.10/dist-packages (from pydantic!=1.8,!=1.8.1,<3.0.0,>=1.7.4->spacy<3.8.0,>=3.7.0->pt-core-news-sm==3.7.0) (2.20.1)\n",
            "Requirement already satisfied: typing-extensions>=4.6.1 in /usr/local/lib/python3.10/dist-packages (from pydantic!=1.8,!=1.8.1,<3.0.0,>=1.7.4->spacy<3.8.0,>=3.7.0->pt-core-news-sm==3.7.0) (4.12.2)\n",
            "Requirement already satisfied: charset-normalizer<4,>=2 in /usr/local/lib/python3.10/dist-packages (from requests<3.0.0,>=2.13.0->spacy<3.8.0,>=3.7.0->pt-core-news-sm==3.7.0) (3.3.2)\n",
            "Requirement already satisfied: idna<4,>=2.5 in /usr/local/lib/python3.10/dist-packages (from requests<3.0.0,>=2.13.0->spacy<3.8.0,>=3.7.0->pt-core-news-sm==3.7.0) (3.7)\n",
            "Requirement already satisfied: urllib3<3,>=1.21.1 in /usr/local/lib/python3.10/dist-packages (from requests<3.0.0,>=2.13.0->spacy<3.8.0,>=3.7.0->pt-core-news-sm==3.7.0) (2.0.7)\n",
            "Requirement already satisfied: certifi>=2017.4.17 in /usr/local/lib/python3.10/dist-packages (from requests<3.0.0,>=2.13.0->spacy<3.8.0,>=3.7.0->pt-core-news-sm==3.7.0) (2024.7.4)\n",
            "Requirement already satisfied: blis<0.8.0,>=0.7.8 in /usr/local/lib/python3.10/dist-packages (from thinc<8.3.0,>=8.2.2->spacy<3.8.0,>=3.7.0->pt-core-news-sm==3.7.0) (0.7.11)\n",
            "Requirement already satisfied: confection<1.0.0,>=0.0.1 in /usr/local/lib/python3.10/dist-packages (from thinc<8.3.0,>=8.2.2->spacy<3.8.0,>=3.7.0->pt-core-news-sm==3.7.0) (0.1.5)\n",
            "Requirement already satisfied: click>=8.0.0 in /usr/local/lib/python3.10/dist-packages (from typer<1.0.0,>=0.3.0->spacy<3.8.0,>=3.7.0->pt-core-news-sm==3.7.0) (8.1.7)\n",
            "Requirement already satisfied: shellingham>=1.3.0 in /usr/local/lib/python3.10/dist-packages (from typer<1.0.0,>=0.3.0->spacy<3.8.0,>=3.7.0->pt-core-news-sm==3.7.0) (1.5.4)\n",
            "Requirement already satisfied: rich>=10.11.0 in /usr/local/lib/python3.10/dist-packages (from typer<1.0.0,>=0.3.0->spacy<3.8.0,>=3.7.0->pt-core-news-sm==3.7.0) (13.7.1)\n",
            "Requirement already satisfied: cloudpathlib<1.0.0,>=0.7.0 in /usr/local/lib/python3.10/dist-packages (from weasel<0.5.0,>=0.1.0->spacy<3.8.0,>=3.7.0->pt-core-news-sm==3.7.0) (0.18.1)\n",
            "Requirement already satisfied: smart-open<8.0.0,>=5.2.1 in /usr/local/lib/python3.10/dist-packages (from weasel<0.5.0,>=0.1.0->spacy<3.8.0,>=3.7.0->pt-core-news-sm==3.7.0) (7.0.4)\n",
            "Requirement already satisfied: MarkupSafe>=2.0 in /usr/local/lib/python3.10/dist-packages (from jinja2->spacy<3.8.0,>=3.7.0->pt-core-news-sm==3.7.0) (2.1.5)\n",
            "Requirement already satisfied: marisa-trie>=0.7.7 in /usr/local/lib/python3.10/dist-packages (from language-data>=1.2->langcodes<4.0.0,>=3.2.0->spacy<3.8.0,>=3.7.0->pt-core-news-sm==3.7.0) (1.2.0)\n",
            "Requirement already satisfied: markdown-it-py>=2.2.0 in /usr/local/lib/python3.10/dist-packages (from rich>=10.11.0->typer<1.0.0,>=0.3.0->spacy<3.8.0,>=3.7.0->pt-core-news-sm==3.7.0) (3.0.0)\n",
            "Requirement already satisfied: pygments<3.0.0,>=2.13.0 in /usr/local/lib/python3.10/dist-packages (from rich>=10.11.0->typer<1.0.0,>=0.3.0->spacy<3.8.0,>=3.7.0->pt-core-news-sm==3.7.0) (2.16.1)\n",
            "Requirement already satisfied: wrapt in /usr/local/lib/python3.10/dist-packages (from smart-open<8.0.0,>=5.2.1->weasel<0.5.0,>=0.1.0->spacy<3.8.0,>=3.7.0->pt-core-news-sm==3.7.0) (1.16.0)\n",
            "Requirement already satisfied: mdurl~=0.1 in /usr/local/lib/python3.10/dist-packages (from markdown-it-py>=2.2.0->rich>=10.11.0->typer<1.0.0,>=0.3.0->spacy<3.8.0,>=3.7.0->pt-core-news-sm==3.7.0) (0.1.2)\n",
            "\u001b[38;5;2m✔ Download and installation successful\u001b[0m\n",
            "You can now load the package via spacy.load('pt_core_news_sm')\n",
            "\u001b[38;5;3m⚠ Restart to reload dependencies\u001b[0m\n",
            "If you are in a Jupyter or Colab notebook, you may need to restart Python in\n",
            "order to load all the package's dependencies. You can do this by selecting the\n",
            "'Restart kernel' or 'Restart runtime' option.\n"
          ]
        }
      ]
    },
    {
      "cell_type": "code",
      "source": [
        "import pandas as pd\n",
        "import string\n",
        "import spacy\n",
        "import random\n",
        "import seaborn as sns\n",
        "import numpy as np"
      ],
      "metadata": {
        "id": "D3V8WBIcxdiY"
      },
      "execution_count": null,
      "outputs": []
    },
    {
      "cell_type": "code",
      "source": [
        "base_dados = pd.read_csv('base_treinamento.txt', encoding='utf-8')\n",
        "base_dados"
      ],
      "metadata": {
        "colab": {
          "base_uri": "https://localhost:8080/"
        },
        "id": "ZpA6CrmbyEo6",
        "outputId": "fb64196b-e158-4c28-d8a8-2c333764f25c"
      },
      "execution_count": null,
      "outputs": [
        {
          "output_type": "execute_result",
          "data": {
            "text/plain": [
              "                                                 texto   emocao\n",
              "0                            este trabalho é agradável  alegria\n",
              "1                      gosto de ficar no seu aconchego  alegria\n",
              "2                           fiz a adesão ao curso hoje  alegria\n",
              "3                           eu sou admirada por muitos  alegria\n",
              "4                                      adoro como você  alegria\n",
              "..                                                 ...      ...\n",
              "191  estou chocado e amedrontado com este assassina...     medo\n",
              "192  é preciso afugenta com ímpeto este medo do inf...     medo\n",
              "193  políticos usam suas forças para afugentar e am...     medo\n",
              "194       o objetivo disso e apenas me amedrontar mais     medo\n",
              "195                                    isso me apavora     medo\n",
              "\n",
              "[196 rows x 2 columns]"
            ],
            "text/html": [
              "\n",
              "  <div id=\"df-16caa6f8-0ff6-469e-8dab-ecff1c06373e\" class=\"colab-df-container\">\n",
              "    <div>\n",
              "<style scoped>\n",
              "    .dataframe tbody tr th:only-of-type {\n",
              "        vertical-align: middle;\n",
              "    }\n",
              "\n",
              "    .dataframe tbody tr th {\n",
              "        vertical-align: top;\n",
              "    }\n",
              "\n",
              "    .dataframe thead th {\n",
              "        text-align: right;\n",
              "    }\n",
              "</style>\n",
              "<table border=\"1\" class=\"dataframe\">\n",
              "  <thead>\n",
              "    <tr style=\"text-align: right;\">\n",
              "      <th></th>\n",
              "      <th>texto</th>\n",
              "      <th>emocao</th>\n",
              "    </tr>\n",
              "  </thead>\n",
              "  <tbody>\n",
              "    <tr>\n",
              "      <th>0</th>\n",
              "      <td>este trabalho é agradável</td>\n",
              "      <td>alegria</td>\n",
              "    </tr>\n",
              "    <tr>\n",
              "      <th>1</th>\n",
              "      <td>gosto de ficar no seu aconchego</td>\n",
              "      <td>alegria</td>\n",
              "    </tr>\n",
              "    <tr>\n",
              "      <th>2</th>\n",
              "      <td>fiz a adesão ao curso hoje</td>\n",
              "      <td>alegria</td>\n",
              "    </tr>\n",
              "    <tr>\n",
              "      <th>3</th>\n",
              "      <td>eu sou admirada por muitos</td>\n",
              "      <td>alegria</td>\n",
              "    </tr>\n",
              "    <tr>\n",
              "      <th>4</th>\n",
              "      <td>adoro como você</td>\n",
              "      <td>alegria</td>\n",
              "    </tr>\n",
              "    <tr>\n",
              "      <th>...</th>\n",
              "      <td>...</td>\n",
              "      <td>...</td>\n",
              "    </tr>\n",
              "    <tr>\n",
              "      <th>191</th>\n",
              "      <td>estou chocado e amedrontado com este assassina...</td>\n",
              "      <td>medo</td>\n",
              "    </tr>\n",
              "    <tr>\n",
              "      <th>192</th>\n",
              "      <td>é preciso afugenta com ímpeto este medo do inf...</td>\n",
              "      <td>medo</td>\n",
              "    </tr>\n",
              "    <tr>\n",
              "      <th>193</th>\n",
              "      <td>políticos usam suas forças para afugentar e am...</td>\n",
              "      <td>medo</td>\n",
              "    </tr>\n",
              "    <tr>\n",
              "      <th>194</th>\n",
              "      <td>o objetivo disso e apenas me amedrontar mais</td>\n",
              "      <td>medo</td>\n",
              "    </tr>\n",
              "    <tr>\n",
              "      <th>195</th>\n",
              "      <td>isso me apavora</td>\n",
              "      <td>medo</td>\n",
              "    </tr>\n",
              "  </tbody>\n",
              "</table>\n",
              "<p>196 rows × 2 columns</p>\n",
              "</div>\n",
              "    <div class=\"colab-df-buttons\">\n",
              "\n",
              "  <div class=\"colab-df-container\">\n",
              "    <button class=\"colab-df-convert\" onclick=\"convertToInteractive('df-16caa6f8-0ff6-469e-8dab-ecff1c06373e')\"\n",
              "            title=\"Convert this dataframe to an interactive table.\"\n",
              "            style=\"display:none;\">\n",
              "\n",
              "  <svg xmlns=\"http://www.w3.org/2000/svg\" height=\"24px\" viewBox=\"0 -960 960 960\">\n",
              "    <path d=\"M120-120v-720h720v720H120Zm60-500h600v-160H180v160Zm220 220h160v-160H400v160Zm0 220h160v-160H400v160ZM180-400h160v-160H180v160Zm440 0h160v-160H620v160ZM180-180h160v-160H180v160Zm440 0h160v-160H620v160Z\"/>\n",
              "  </svg>\n",
              "    </button>\n",
              "\n",
              "  <style>\n",
              "    .colab-df-container {\n",
              "      display:flex;\n",
              "      gap: 12px;\n",
              "    }\n",
              "\n",
              "    .colab-df-convert {\n",
              "      background-color: #E8F0FE;\n",
              "      border: none;\n",
              "      border-radius: 50%;\n",
              "      cursor: pointer;\n",
              "      display: none;\n",
              "      fill: #1967D2;\n",
              "      height: 32px;\n",
              "      padding: 0 0 0 0;\n",
              "      width: 32px;\n",
              "    }\n",
              "\n",
              "    .colab-df-convert:hover {\n",
              "      background-color: #E2EBFA;\n",
              "      box-shadow: 0px 1px 2px rgba(60, 64, 67, 0.3), 0px 1px 3px 1px rgba(60, 64, 67, 0.15);\n",
              "      fill: #174EA6;\n",
              "    }\n",
              "\n",
              "    .colab-df-buttons div {\n",
              "      margin-bottom: 4px;\n",
              "    }\n",
              "\n",
              "    [theme=dark] .colab-df-convert {\n",
              "      background-color: #3B4455;\n",
              "      fill: #D2E3FC;\n",
              "    }\n",
              "\n",
              "    [theme=dark] .colab-df-convert:hover {\n",
              "      background-color: #434B5C;\n",
              "      box-shadow: 0px 1px 3px 1px rgba(0, 0, 0, 0.15);\n",
              "      filter: drop-shadow(0px 1px 2px rgba(0, 0, 0, 0.3));\n",
              "      fill: #FFFFFF;\n",
              "    }\n",
              "  </style>\n",
              "\n",
              "    <script>\n",
              "      const buttonEl =\n",
              "        document.querySelector('#df-16caa6f8-0ff6-469e-8dab-ecff1c06373e button.colab-df-convert');\n",
              "      buttonEl.style.display =\n",
              "        google.colab.kernel.accessAllowed ? 'block' : 'none';\n",
              "\n",
              "      async function convertToInteractive(key) {\n",
              "        const element = document.querySelector('#df-16caa6f8-0ff6-469e-8dab-ecff1c06373e');\n",
              "        const dataTable =\n",
              "          await google.colab.kernel.invokeFunction('convertToInteractive',\n",
              "                                                    [key], {});\n",
              "        if (!dataTable) return;\n",
              "\n",
              "        const docLinkHtml = 'Like what you see? Visit the ' +\n",
              "          '<a target=\"_blank\" href=https://colab.research.google.com/notebooks/data_table.ipynb>data table notebook</a>'\n",
              "          + ' to learn more about interactive tables.';\n",
              "        element.innerHTML = '';\n",
              "        dataTable['output_type'] = 'display_data';\n",
              "        await google.colab.output.renderOutput(dataTable, element);\n",
              "        const docLink = document.createElement('div');\n",
              "        docLink.innerHTML = docLinkHtml;\n",
              "        element.appendChild(docLink);\n",
              "      }\n",
              "    </script>\n",
              "  </div>\n",
              "\n",
              "\n",
              "<div id=\"df-4e28ff20-fa9c-498d-8443-d5e876507b17\">\n",
              "  <button class=\"colab-df-quickchart\" onclick=\"quickchart('df-4e28ff20-fa9c-498d-8443-d5e876507b17')\"\n",
              "            title=\"Suggest charts\"\n",
              "            style=\"display:none;\">\n",
              "\n",
              "<svg xmlns=\"http://www.w3.org/2000/svg\" height=\"24px\"viewBox=\"0 0 24 24\"\n",
              "     width=\"24px\">\n",
              "    <g>\n",
              "        <path d=\"M19 3H5c-1.1 0-2 .9-2 2v14c0 1.1.9 2 2 2h14c1.1 0 2-.9 2-2V5c0-1.1-.9-2-2-2zM9 17H7v-7h2v7zm4 0h-2V7h2v10zm4 0h-2v-4h2v4z\"/>\n",
              "    </g>\n",
              "</svg>\n",
              "  </button>\n",
              "\n",
              "<style>\n",
              "  .colab-df-quickchart {\n",
              "      --bg-color: #E8F0FE;\n",
              "      --fill-color: #1967D2;\n",
              "      --hover-bg-color: #E2EBFA;\n",
              "      --hover-fill-color: #174EA6;\n",
              "      --disabled-fill-color: #AAA;\n",
              "      --disabled-bg-color: #DDD;\n",
              "  }\n",
              "\n",
              "  [theme=dark] .colab-df-quickchart {\n",
              "      --bg-color: #3B4455;\n",
              "      --fill-color: #D2E3FC;\n",
              "      --hover-bg-color: #434B5C;\n",
              "      --hover-fill-color: #FFFFFF;\n",
              "      --disabled-bg-color: #3B4455;\n",
              "      --disabled-fill-color: #666;\n",
              "  }\n",
              "\n",
              "  .colab-df-quickchart {\n",
              "    background-color: var(--bg-color);\n",
              "    border: none;\n",
              "    border-radius: 50%;\n",
              "    cursor: pointer;\n",
              "    display: none;\n",
              "    fill: var(--fill-color);\n",
              "    height: 32px;\n",
              "    padding: 0;\n",
              "    width: 32px;\n",
              "  }\n",
              "\n",
              "  .colab-df-quickchart:hover {\n",
              "    background-color: var(--hover-bg-color);\n",
              "    box-shadow: 0 1px 2px rgba(60, 64, 67, 0.3), 0 1px 3px 1px rgba(60, 64, 67, 0.15);\n",
              "    fill: var(--button-hover-fill-color);\n",
              "  }\n",
              "\n",
              "  .colab-df-quickchart-complete:disabled,\n",
              "  .colab-df-quickchart-complete:disabled:hover {\n",
              "    background-color: var(--disabled-bg-color);\n",
              "    fill: var(--disabled-fill-color);\n",
              "    box-shadow: none;\n",
              "  }\n",
              "\n",
              "  .colab-df-spinner {\n",
              "    border: 2px solid var(--fill-color);\n",
              "    border-color: transparent;\n",
              "    border-bottom-color: var(--fill-color);\n",
              "    animation:\n",
              "      spin 1s steps(1) infinite;\n",
              "  }\n",
              "\n",
              "  @keyframes spin {\n",
              "    0% {\n",
              "      border-color: transparent;\n",
              "      border-bottom-color: var(--fill-color);\n",
              "      border-left-color: var(--fill-color);\n",
              "    }\n",
              "    20% {\n",
              "      border-color: transparent;\n",
              "      border-left-color: var(--fill-color);\n",
              "      border-top-color: var(--fill-color);\n",
              "    }\n",
              "    30% {\n",
              "      border-color: transparent;\n",
              "      border-left-color: var(--fill-color);\n",
              "      border-top-color: var(--fill-color);\n",
              "      border-right-color: var(--fill-color);\n",
              "    }\n",
              "    40% {\n",
              "      border-color: transparent;\n",
              "      border-right-color: var(--fill-color);\n",
              "      border-top-color: var(--fill-color);\n",
              "    }\n",
              "    60% {\n",
              "      border-color: transparent;\n",
              "      border-right-color: var(--fill-color);\n",
              "    }\n",
              "    80% {\n",
              "      border-color: transparent;\n",
              "      border-right-color: var(--fill-color);\n",
              "      border-bottom-color: var(--fill-color);\n",
              "    }\n",
              "    90% {\n",
              "      border-color: transparent;\n",
              "      border-bottom-color: var(--fill-color);\n",
              "    }\n",
              "  }\n",
              "</style>\n",
              "\n",
              "  <script>\n",
              "    async function quickchart(key) {\n",
              "      const quickchartButtonEl =\n",
              "        document.querySelector('#' + key + ' button');\n",
              "      quickchartButtonEl.disabled = true;  // To prevent multiple clicks.\n",
              "      quickchartButtonEl.classList.add('colab-df-spinner');\n",
              "      try {\n",
              "        const charts = await google.colab.kernel.invokeFunction(\n",
              "            'suggestCharts', [key], {});\n",
              "      } catch (error) {\n",
              "        console.error('Error during call to suggestCharts:', error);\n",
              "      }\n",
              "      quickchartButtonEl.classList.remove('colab-df-spinner');\n",
              "      quickchartButtonEl.classList.add('colab-df-quickchart-complete');\n",
              "    }\n",
              "    (() => {\n",
              "      let quickchartButtonEl =\n",
              "        document.querySelector('#df-4e28ff20-fa9c-498d-8443-d5e876507b17 button');\n",
              "      quickchartButtonEl.style.display =\n",
              "        google.colab.kernel.accessAllowed ? 'block' : 'none';\n",
              "    })();\n",
              "  </script>\n",
              "</div>\n",
              "\n",
              "  <div id=\"id_b4b95c5c-c0ac-4e55-afdb-451c81a03c9a\">\n",
              "    <style>\n",
              "      .colab-df-generate {\n",
              "        background-color: #E8F0FE;\n",
              "        border: none;\n",
              "        border-radius: 50%;\n",
              "        cursor: pointer;\n",
              "        display: none;\n",
              "        fill: #1967D2;\n",
              "        height: 32px;\n",
              "        padding: 0 0 0 0;\n",
              "        width: 32px;\n",
              "      }\n",
              "\n",
              "      .colab-df-generate:hover {\n",
              "        background-color: #E2EBFA;\n",
              "        box-shadow: 0px 1px 2px rgba(60, 64, 67, 0.3), 0px 1px 3px 1px rgba(60, 64, 67, 0.15);\n",
              "        fill: #174EA6;\n",
              "      }\n",
              "\n",
              "      [theme=dark] .colab-df-generate {\n",
              "        background-color: #3B4455;\n",
              "        fill: #D2E3FC;\n",
              "      }\n",
              "\n",
              "      [theme=dark] .colab-df-generate:hover {\n",
              "        background-color: #434B5C;\n",
              "        box-shadow: 0px 1px 3px 1px rgba(0, 0, 0, 0.15);\n",
              "        filter: drop-shadow(0px 1px 2px rgba(0, 0, 0, 0.3));\n",
              "        fill: #FFFFFF;\n",
              "      }\n",
              "    </style>\n",
              "    <button class=\"colab-df-generate\" onclick=\"generateWithVariable('base_dados')\"\n",
              "            title=\"Generate code using this dataframe.\"\n",
              "            style=\"display:none;\">\n",
              "\n",
              "  <svg xmlns=\"http://www.w3.org/2000/svg\" height=\"24px\"viewBox=\"0 0 24 24\"\n",
              "       width=\"24px\">\n",
              "    <path d=\"M7,19H8.4L18.45,9,17,7.55,7,17.6ZM5,21V16.75L18.45,3.32a2,2,0,0,1,2.83,0l1.4,1.43a1.91,1.91,0,0,1,.58,1.4,1.91,1.91,0,0,1-.58,1.4L9.25,21ZM18.45,9,17,7.55Zm-12,3A5.31,5.31,0,0,0,4.9,8.1,5.31,5.31,0,0,0,1,6.5,5.31,5.31,0,0,0,4.9,4.9,5.31,5.31,0,0,0,6.5,1,5.31,5.31,0,0,0,8.1,4.9,5.31,5.31,0,0,0,12,6.5,5.46,5.46,0,0,0,6.5,12Z\"/>\n",
              "  </svg>\n",
              "    </button>\n",
              "    <script>\n",
              "      (() => {\n",
              "      const buttonEl =\n",
              "        document.querySelector('#id_b4b95c5c-c0ac-4e55-afdb-451c81a03c9a button.colab-df-generate');\n",
              "      buttonEl.style.display =\n",
              "        google.colab.kernel.accessAllowed ? 'block' : 'none';\n",
              "\n",
              "      buttonEl.onclick = () => {\n",
              "        google.colab.notebook.generateWithVariable('base_dados');\n",
              "      }\n",
              "      })();\n",
              "    </script>\n",
              "  </div>\n",
              "\n",
              "    </div>\n",
              "  </div>\n"
            ],
            "application/vnd.google.colaboratory.intrinsic+json": {
              "type": "dataframe",
              "variable_name": "base_dados",
              "summary": "{\n  \"name\": \"base_dados\",\n  \"rows\": 196,\n  \"fields\": [\n    {\n      \"column\": \"texto\",\n      \"properties\": {\n        \"dtype\": \"string\",\n        \"num_unique_values\": 196,\n        \"samples\": [\n          \"cuidado com as curvas na estrada\",\n          \"tem certeza que n\\u00e3o \\u00e9 perigoso?\",\n          \"estou me sentindo muito animada\"\n        ],\n        \"semantic_type\": \"\",\n        \"description\": \"\"\n      }\n    },\n    {\n      \"column\": \"emocao\",\n      \"properties\": {\n        \"dtype\": \"category\",\n        \"num_unique_values\": 2,\n        \"samples\": [\n          \"medo\",\n          \"alegria\"\n        ],\n        \"semantic_type\": \"\",\n        \"description\": \"\"\n      }\n    }\n  ]\n}"
            }
          },
          "metadata": {},
          "execution_count": 44
        }
      ]
    },
    {
      "cell_type": "code",
      "source": [
        "sns.countplot(x=base_dados['emocao']);"
      ],
      "metadata": {
        "colab": {
          "base_uri": "https://localhost:8080/"
        },
        "id": "BonLBltby7PS",
        "outputId": "fd9276dd-15a3-4583-d4b0-f4a8052f978e"
      },
      "execution_count": null,
      "outputs": [
        {
          "output_type": "display_data",
          "data": {
            "text/plain": [
              "<Figure size 640x480 with 1 Axes>"
            ],
            "image/png": "[encoded data removed]"
          },
          "metadata": {}
        }
      ]
    },
    {
      "cell_type": "markdown",
      "source": [
        "# **PRÉ-PROCESSAMENTO**"
      ],
      "metadata": {
        "id": "PjEVAhzH5QL6"
      }
    },
    {
      "cell_type": "code",
      "source": [
        "pontuacoes = string.punctuation\n",
        "pontuacoes"
      ],
      "metadata": {
        "colab": {
          "base_uri": "https://localhost:8080/"
        },
        "id": "cFV_E9DZzW3B",
        "outputId": "5cbead3b-2c4a-492f-a607-898f76570fb5"
      },
      "execution_count": null,
      "outputs": [
        {
          "output_type": "execute_result",
          "data": {
            "text/plain": [
              "'!\"#$%&\\'()*+,-./:;<=>?@[\\\\]^_`{|}~'"
            ],
            "application/vnd.google.colaboratory.intrinsic+json": {
              "type": "string"
            }
          },
          "metadata": {},
          "execution_count": 46
        }
      ]
    },
    {
      "cell_type": "code",
      "source": [
        "from spacy.lang.pt.stop_words import STOP_WORDS\n",
        "stopwords = STOP_WORDS\n",
        "print(stopwords)"
      ],
      "metadata": {
        "colab": {
          "base_uri": "https://localhost:8080/"
        },
        "id": "eqdTb7MIzni5",
        "outputId": "5e2f1046-ee7a-4fd2-90d1-4d448815a772"
      },
      "execution_count": null,
      "outputs": [
        {
          "output_type": "stream",
          "name": "stdout",
          "text": [
            "{'ela', 'puderam', 'ligado', 'foi', 'esse', 'estivemos', 'sem', 'vezes', 'sobre', 'seria', 'ser', 'perto', 'já', 'vez', 'deverá', 'me', 'conselho', 'sabe', 'podem', 'quer', 'sob', 'fui', 'minha', 'os', 'aqui', 'segundo', 'diante', 'assim', 'número', 'mas', 'local', 'oitava', 'minhas', 'mesmo', 'obrigado', 'longe', 'conhecida', 'cujo', 'dezoito', 'fazes', 'ambos', 'seus', 'bastante', 'vosso', 'embora', 'quinze', 'fazer', 'sim', 'próximo', 'possivelmente', 'oitavo', 'novo', 'daquele', 'veja', 'vós', 'e', 'tente', 'contudo', 'dezassete', 'novas', 'dois', 'ademais', 'estou', 'ele', 'fez', 'sete', 'neste', 'quanto', 'pode', 'nossas', 'também', 'usa', 'cedo', 'quatro', 'lá', 'temos', 'algo', 'nunca', 'desse', 'daquela', 'naquela', 'quieta', 'nos', 'vossas', 'fim', 'coisa', 'ter', 'oito', 'parte', 'vai', 'todos', 'eventual', 'estivestes', 'debaixo', 'tiveste', 'dos', 'faz', 'estive', 'à', 'outra', 'aí', 'cinco', 'próprio', 'maioria', 'pois', 'dá', 'posso', 'comprida', 'a', 'menos', 'que', 'grupo', 'nossos', 'menor', 'podia', 'parece', 'tal', 'quinta', 'meu', 'porquê', 'uns', 'apoio', 'quarto', 'quando', 'grande', 'vem', 'o', 'terceiro', 'foste', 'as', 'estas', 'inclusive', 'outros', 'vêm', 'te', 'agora', 'breve', 'isso', 'aquilo', 'lugar', 'ver', 'tudo', 'nas', 'esta', 'somente', 'maiorias', 'teu', 'tu', 'pouca', 'des', 'como', 'porém', 'tuas', 'contra', 'sétima', 'lado', 'forma', 'se', 'você', 'porquanto', 'onde', 'tanta', 'apontar', 'obrigada', 'nível', 'sei', 'terceira', 'naquele', 'questão', 'quero', 'vos', 'tipo', 'qual', 'demais', 'através', 'vinte', 'comprido', 'fazemos', 'algumas', 'sistema', 'qualquer', 'nós', 'vocês', 'boa', 'tiveram', 'aos', 'todo', 'ao', 'aquele', 'do', 'ambas', 'deve', 'pouco', 'teve', 'cá', 'entre', 'poderá', 'são', 'usar', 'seu', 'dizer', 'duas', 'vens', 'vinda', 'mais', 'tive', 'querem', 'nova', 'está', 'vais', 'muito', 'próxima', 'direita', 'tentei', 'vão', 'estes', 'quem', 'for', 'três', 'até', 'caminho', 'nesse', 'para', 'tão', 'têm', 'uma', 'seis', 'nuns', 'cima', 'tenho', 'sou', 'sexto', 'área', 'desta', 'toda', 'dentro', 'exemplo', 'pôde', 'dizem', 'fomos', 'maior', 'ali', 'tempo', 'valor', 'um', 'isto', 'aqueles', 'certamente', 'das', 'fora', 'final', 'deste', 'dão', 'não', 'sempre', 'tem', 'cada', 'poder', 'porque', 'quarta', 'era', 'estava', 'por', 'aquela', 'estiveste', 'com', 'foram', 'fazeis', 'essas', 'tentar', 'estão', 'sexta', 'estar', 'todas', 'depois', 'essa', 'numa', 'dessa', 'meio', 'tais', 'alguns', 'custa', 'fazem', 'nossa', 'favor', 'zero', 'posição', 'dez', 'nem', 'lhe', 'mil', 'sois', 'primeira', 'nove', 'tivemos', 'dezasseis', 'às', 'momento', 'onze', 'vindo', 'saber', 'pelos', 'nosso', 'catorze', 'mês', 'quais', 'pegar', 'fará', 'quinto', 'vossos', 'mal', 'pelas', 'esteve', 'teus', 'após', 'inicio', 'bom', 'adeus', 'em', 'máximo', 'segunda', 'desde', 'nessa', 'estás', 'este', 'diz', 'último', 'tarde', 'fazia', 'tivestes', 'atrás', 'primeiro', 'nada', 'portanto', 'devem', 'tua', 'tentaram', 'números', 'apoia', 'muitos', 'meus', 'fostes', 'sétimo', 'nenhuma', 'treze', 'possível', 'estará', 'partir', 'vossa', 'enquanto', 'povo', 'ponto', 'além', 'corrente', 'pelo', 'relação', 'estado', 'tendes', 'somos', 'antes', 'faço', 'tens', 'tanto', 'sua', 'ontem', 'só', 'cento', 'estiveram', 'outras', 'conhecido', 'geral', 'ainda', 'apenas', 'quê', 'meses', 'umas', 'esses', 'ir', 'põe', 'num', 'és', 'então', 'novos', 'pontos', 'iniciar', 'da', 'nesta', 'irá', 'dar', 'logo', 'é', 'talvez', 'elas', 'certeza', 'suas', 'dezanove', 'falta', 'acerca', 'eles', 'grandes', 'ou', 'disso', 'doze', 'quieto', 'ora', 'no', 'aquelas', 'põem', 'pela', 'de', 'na', 'bem', 'baixo', 'eu', 'cuja', 'vários'}\n"
          ]
        }
      ]
    },
    {
      "cell_type": "code",
      "source": [
        "pln = spacy.load('pt_core_news_sm')\n",
        "pln"
      ],
      "metadata": {
        "colab": {
          "base_uri": "https://localhost:8080/"
        },
        "id": "UQR_VVdxzzJR",
        "outputId": "3342adad-3b1b-419e-bb79-70263a87845d"
      },
      "execution_count": null,
      "outputs": [
        {
          "output_type": "execute_result",
          "data": {
            "text/plain": [
              "<spacy.lang.pt.Portuguese at 0x7ff1237f8fd0>"
            ]
          },
          "metadata": {},
          "execution_count": 48
        }
      ]
    },
    {
      "cell_type": "code",
      "source": [
        "def preprocessamento(texto):\n",
        "  documento = pln(texto)\n",
        "\n",
        "  lista = []\n",
        "  for token in documento:\n",
        "    lista.append(token.lemma_.lower().strip())\n",
        "\n",
        "  lista = [palavra for palavra in lista if palavra not in stopwords and palavra not in pontuacoes]\n",
        "  lista = ' '.join([str(elemento) for elemento in lista if not elemento.isdigit()])\n",
        "\n",
        "  return lista"
      ],
      "metadata": {
        "id": "RCyOs09Zz-K5"
      },
      "execution_count": null,
      "outputs": []
    },
    {
      "cell_type": "code",
      "source": [
        "teste = preprocessamento(base_dados['texto'][0])\n",
        "teste"
      ],
      "metadata": {
        "colab": {
          "base_uri": "https://localhost:8080/"
        },
        "id": "9UXXcLvd0a3T",
        "outputId": "96bb14bf-fe9d-456c-f3f2-7396332f8371"
      },
      "execution_count": null,
      "outputs": [
        {
          "output_type": "execute_result",
          "data": {
            "text/plain": [
              "'trabalho agradável'"
            ],
            "application/vnd.google.colaboratory.intrinsic+json": {
              "type": "string"
            }
          },
          "metadata": {},
          "execution_count": 50
        }
      ]
    },
    {
      "cell_type": "markdown",
      "source": [
        "# **LIMPEZA DOS TEXTOS**"
      ],
      "metadata": {
        "id": "smyaGPof5iSh"
      }
    },
    {
      "cell_type": "code",
      "source": [
        "base_dados['texto'] = base_dados['texto'].apply(preprocessamento)\n",
        "base_dados"
      ],
      "metadata": {
        "colab": {
          "base_uri": "https://localhost:8080/"
        },
        "id": "JvQ2Aefj0ckA",
        "outputId": "e3772156-b3f1-4404-efb8-5a5e78de7de5"
      },
      "execution_count": null,
      "outputs": [
        {
          "output_type": "execute_result",
          "data": {
            "text/plain": [
              "                                          texto   emocao\n",
              "0                            trabalho agradável  alegria\n",
              "1                    gosto ficar em o aconchego  alegria\n",
              "2                     fiz adesão a o curso hoje  alegria\n",
              "3                                       admirar  alegria\n",
              "4                                        adorar  alegria\n",
              "..                                          ...      ...\n",
              "191       chocado amedrontar assassinato brutal     medo\n",
              "192  preciso afugentar ímpeto medo de o inferno     medo\n",
              "193         político força afugentar amedrontar     medo\n",
              "194                 objetivo de isso amedrontar     medo\n",
              "195                                    apavorar     medo\n",
              "\n",
              "[196 rows x 2 columns]"
            ],
            "text/html": [
              "\n",
              "  <div id=\"df-5713d3ec-2f82-4400-b2e0-3f72e037f4bd\" class=\"colab-df-container\">\n",
              "    <div>\n",
              "<style scoped>\n",
              "    .dataframe tbody tr th:only-of-type {\n",
              "        vertical-align: middle;\n",
              "    }\n",
              "\n",
              "    .dataframe tbody tr th {\n",
              "        vertical-align: top;\n",
              "    }\n",
              "\n",
              "    .dataframe thead th {\n",
              "        text-align: right;\n",
              "    }\n",
              "</style>\n",
              "<table border=\"1\" class=\"dataframe\">\n",
              "  <thead>\n",
              "    <tr style=\"text-align: right;\">\n",
              "      <th></th>\n",
              "      <th>texto</th>\n",
              "      <th>emocao</th>\n",
              "    </tr>\n",
              "  </thead>\n",
              "  <tbody>\n",
              "    <tr>\n",
              "      <th>0</th>\n",
              "      <td>trabalho agradável</td>\n",
              "      <td>alegria</td>\n",
              "    </tr>\n",
              "    <tr>\n",
              "      <th>1</th>\n",
              "      <td>gosto ficar em o aconchego</td>\n",
              "      <td>alegria</td>\n",
              "    </tr>\n",
              "    <tr>\n",
              "      <th>2</th>\n",
              "      <td>fiz adesão a o curso hoje</td>\n",
              "      <td>alegria</td>\n",
              "    </tr>\n",
              "    <tr>\n",
              "      <th>3</th>\n",
              "      <td>admirar</td>\n",
              "      <td>alegria</td>\n",
              "    </tr>\n",
              "    <tr>\n",
              "      <th>4</th>\n",
              "      <td>adorar</td>\n",
              "      <td>alegria</td>\n",
              "    </tr>\n",
              "    <tr>\n",
              "      <th>...</th>\n",
              "      <td>...</td>\n",
              "      <td>...</td>\n",
              "    </tr>\n",
              "    <tr>\n",
              "      <th>191</th>\n",
              "      <td>chocado amedrontar assassinato brutal</td>\n",
              "      <td>medo</td>\n",
              "    </tr>\n",
              "    <tr>\n",
              "      <th>192</th>\n",
              "      <td>preciso afugentar ímpeto medo de o inferno</td>\n",
              "      <td>medo</td>\n",
              "    </tr>\n",
              "    <tr>\n",
              "      <th>193</th>\n",
              "      <td>político força afugentar amedrontar</td>\n",
              "      <td>medo</td>\n",
              "    </tr>\n",
              "    <tr>\n",
              "      <th>194</th>\n",
              "      <td>objetivo de isso amedrontar</td>\n",
              "      <td>medo</td>\n",
              "    </tr>\n",
              "    <tr>\n",
              "      <th>195</th>\n",
              "      <td>apavorar</td>\n",
              "      <td>medo</td>\n",
              "    </tr>\n",
              "  </tbody>\n",
              "</table>\n",
              "<p>196 rows × 2 columns</p>\n",
              "</div>\n",
              "    <div class=\"colab-df-buttons\">\n",
              "\n",
              "  <div class=\"colab-df-container\">\n",
              "    <button class=\"colab-df-convert\" onclick=\"convertToInteractive('df-5713d3ec-2f82-4400-b2e0-3f72e037f4bd')\"\n",
              "            title=\"Convert this dataframe to an interactive table.\"\n",
              "            style=\"display:none;\">\n",
              "\n",
              "  <svg xmlns=\"http://www.w3.org/2000/svg\" height=\"24px\" viewBox=\"0 -960 960 960\">\n",
              "    <path d=\"M120-120v-720h720v720H120Zm60-500h600v-160H180v160Zm220 220h160v-160H400v160Zm0 220h160v-160H400v160ZM180-400h160v-160H180v160Zm440 0h160v-160H620v160ZM180-180h160v-160H180v160Zm440 0h160v-160H620v160Z\"/>\n",
              "  </svg>\n",
              "    </button>\n",
              "\n",
              "  <style>\n",
              "    .colab-df-container {\n",
              "      display:flex;\n",
              "      gap: 12px;\n",
              "    }\n",
              "\n",
              "    .colab-df-convert {\n",
              "      background-color: #E8F0FE;\n",
              "      border: none;\n",
              "      border-radius: 50%;\n",
              "      cursor: pointer;\n",
              "      display: none;\n",
              "      fill: #1967D2;\n",
              "      height: 32px;\n",
              "      padding: 0 0 0 0;\n",
              "      width: 32px;\n",
              "    }\n",
              "\n",
              "    .colab-df-convert:hover {\n",
              "      background-color: #E2EBFA;\n",
              "      box-shadow: 0px 1px 2px rgba(60, 64, 67, 0.3), 0px 1px 3px 1px rgba(60, 64, 67, 0.15);\n",
              "      fill: #174EA6;\n",
              "    }\n",
              "\n",
              "    .colab-df-buttons div {\n",
              "      margin-bottom: 4px;\n",
              "    }\n",
              "\n",
              "    [theme=dark] .colab-df-convert {\n",
              "      background-color: #3B4455;\n",
              "      fill: #D2E3FC;\n",
              "    }\n",
              "\n",
              "    [theme=dark] .colab-df-convert:hover {\n",
              "      background-color: #434B5C;\n",
              "      box-shadow: 0px 1px 3px 1px rgba(0, 0, 0, 0.15);\n",
              "      filter: drop-shadow(0px 1px 2px rgba(0, 0, 0, 0.3));\n",
              "      fill: #FFFFFF;\n",
              "    }\n",
              "  </style>\n",
              "\n",
              "    <script>\n",
              "      const buttonEl =\n",
              "        document.querySelector('#df-5713d3ec-2f82-4400-b2e0-3f72e037f4bd button.colab-df-convert');\n",
              "      buttonEl.style.display =\n",
              "        google.colab.kernel.accessAllowed ? 'block' : 'none';\n",
              "\n",
              "      async function convertToInteractive(key) {\n",
              "        const element = document.querySelector('#df-5713d3ec-2f82-4400-b2e0-3f72e037f4bd');\n",
              "        const dataTable =\n",
              "          await google.colab.kernel.invokeFunction('convertToInteractive',\n",
              "                                                    [key], {});\n",
              "        if (!dataTable) return;\n",
              "\n",
              "        const docLinkHtml = 'Like what you see? Visit the ' +\n",
              "          '<a target=\"_blank\" href=https://colab.research.google.com/notebooks/data_table.ipynb>data table notebook</a>'\n",
              "          + ' to learn more about interactive tables.';\n",
              "        element.innerHTML = '';\n",
              "        dataTable['output_type'] = 'display_data';\n",
              "        await google.colab.output.renderOutput(dataTable, element);\n",
              "        const docLink = document.createElement('div');\n",
              "        docLink.innerHTML = docLinkHtml;\n",
              "        element.appendChild(docLink);\n",
              "      }\n",
              "    </script>\n",
              "  </div>\n",
              "\n",
              "\n",
              "<div id=\"df-6f7d9a54-5fe7-455d-ba10-b12169403dd6\">\n",
              "  <button class=\"colab-df-quickchart\" onclick=\"quickchart('df-6f7d9a54-5fe7-455d-ba10-b12169403dd6')\"\n",
              "            title=\"Suggest charts\"\n",
              "            style=\"display:none;\">\n",
              "\n",
              "<svg xmlns=\"http://www.w3.org/2000/svg\" height=\"24px\"viewBox=\"0 0 24 24\"\n",
              "     width=\"24px\">\n",
              "    <g>\n",
              "        <path d=\"M19 3H5c-1.1 0-2 .9-2 2v14c0 1.1.9 2 2 2h14c1.1 0 2-.9 2-2V5c0-1.1-.9-2-2-2zM9 17H7v-7h2v7zm4 0h-2V7h2v10zm4 0h-2v-4h2v4z\"/>\n",
              "    </g>\n",
              "</svg>\n",
              "  </button>\n",
              "\n",
              "<style>\n",
              "  .colab-df-quickchart {\n",
              "      --bg-color: #E8F0FE;\n",
              "      --fill-color: #1967D2;\n",
              "      --hover-bg-color: #E2EBFA;\n",
              "      --hover-fill-color: #174EA6;\n",
              "      --disabled-fill-color: #AAA;\n",
              "      --disabled-bg-color: #DDD;\n",
              "  }\n",
              "\n",
              "  [theme=dark] .colab-df-quickchart {\n",
              "      --bg-color: #3B4455;\n",
              "      --fill-color: #D2E3FC;\n",
              "      --hover-bg-color: #434B5C;\n",
              "      --hover-fill-color: #FFFFFF;\n",
              "      --disabled-bg-color: #3B4455;\n",
              "      --disabled-fill-color: #666;\n",
              "  }\n",
              "\n",
              "  .colab-df-quickchart {\n",
              "    background-color: var(--bg-color);\n",
              "    border: none;\n",
              "    border-radius: 50%;\n",
              "    cursor: pointer;\n",
              "    display: none;\n",
              "    fill: var(--fill-color);\n",
              "    height: 32px;\n",
              "    padding: 0;\n",
              "    width: 32px;\n",
              "  }\n",
              "\n",
              "  .colab-df-quickchart:hover {\n",
              "    background-color: var(--hover-bg-color);\n",
              "    box-shadow: 0 1px 2px rgba(60, 64, 67, 0.3), 0 1px 3px 1px rgba(60, 64, 67, 0.15);\n",
              "    fill: var(--button-hover-fill-color);\n",
              "  }\n",
              "\n",
              "  .colab-df-quickchart-complete:disabled,\n",
              "  .colab-df-quickchart-complete:disabled:hover {\n",
              "    background-color: var(--disabled-bg-color);\n",
              "    fill: var(--disabled-fill-color);\n",
              "    box-shadow: none;\n",
              "  }\n",
              "\n",
              "  .colab-df-spinner {\n",
              "    border: 2px solid var(--fill-color);\n",
              "    border-color: transparent;\n",
              "    border-bottom-color: var(--fill-color);\n",
              "    animation:\n",
              "      spin 1s steps(1) infinite;\n",
              "  }\n",
              "\n",
              "  @keyframes spin {\n",
              "    0% {\n",
              "      border-color: transparent;\n",
              "      border-bottom-color: var(--fill-color);\n",
              "      border-left-color: var(--fill-color);\n",
              "    }\n",
              "    20% {\n",
              "      border-color: transparent;\n",
              "      border-left-color: var(--fill-color);\n",
              "      border-top-color: var(--fill-color);\n",
              "    }\n",
              "    30% {\n",
              "      border-color: transparent;\n",
              "      border-left-color: var(--fill-color);\n",
              "      border-top-color: var(--fill-color);\n",
              "      border-right-color: var(--fill-color);\n",
              "    }\n",
              "    40% {\n",
              "      border-color: transparent;\n",
              "      border-right-color: var(--fill-color);\n",
              "      border-top-color: var(--fill-color);\n",
              "    }\n",
              "    60% {\n",
              "      border-color: transparent;\n",
              "      border-right-color: var(--fill-color);\n",
              "    }\n",
              "    80% {\n",
              "      border-color: transparent;\n",
              "      border-right-color: var(--fill-color);\n",
              "      border-bottom-color: var(--fill-color);\n",
              "    }\n",
              "    90% {\n",
              "      border-color: transparent;\n",
              "      border-bottom-color: var(--fill-color);\n",
              "    }\n",
              "  }\n",
              "</style>\n",
              "\n",
              "  <script>\n",
              "    async function quickchart(key) {\n",
              "      const quickchartButtonEl =\n",
              "        document.querySelector('#' + key + ' button');\n",
              "      quickchartButtonEl.disabled = true;  // To prevent multiple clicks.\n",
              "      quickchartButtonEl.classList.add('colab-df-spinner');\n",
              "      try {\n",
              "        const charts = await google.colab.kernel.invokeFunction(\n",
              "            'suggestCharts', [key], {});\n",
              "      } catch (error) {\n",
              "        console.error('Error during call to suggestCharts:', error);\n",
              "      }\n",
              "      quickchartButtonEl.classList.remove('colab-df-spinner');\n",
              "      quickchartButtonEl.classList.add('colab-df-quickchart-complete');\n",
              "    }\n",
              "    (() => {\n",
              "      let quickchartButtonEl =\n",
              "        document.querySelector('#df-6f7d9a54-5fe7-455d-ba10-b12169403dd6 button');\n",
              "      quickchartButtonEl.style.display =\n",
              "        google.colab.kernel.accessAllowed ? 'block' : 'none';\n",
              "    })();\n",
              "  </script>\n",
              "</div>\n",
              "\n",
              "  <div id=\"id_24b0040d-2c4b-4f8d-b567-f3e4ae48f495\">\n",
              "    <style>\n",
              "      .colab-df-generate {\n",
              "        background-color: #E8F0FE;\n",
              "        border: none;\n",
              "        border-radius: 50%;\n",
              "        cursor: pointer;\n",
              "        display: none;\n",
              "        fill: #1967D2;\n",
              "        height: 32px;\n",
              "        padding: 0 0 0 0;\n",
              "        width: 32px;\n",
              "      }\n",
              "\n",
              "      .colab-df-generate:hover {\n",
              "        background-color: #E2EBFA;\n",
              "        box-shadow: 0px 1px 2px rgba(60, 64, 67, 0.3), 0px 1px 3px 1px rgba(60, 64, 67, 0.15);\n",
              "        fill: #174EA6;\n",
              "      }\n",
              "\n",
              "      [theme=dark] .colab-df-generate {\n",
              "        background-color: #3B4455;\n",
              "        fill: #D2E3FC;\n",
              "      }\n",
              "\n",
              "      [theme=dark] .colab-df-generate:hover {\n",
              "        background-color: #434B5C;\n",
              "        box-shadow: 0px 1px 3px 1px rgba(0, 0, 0, 0.15);\n",
              "        filter: drop-shadow(0px 1px 2px rgba(0, 0, 0, 0.3));\n",
              "        fill: #FFFFFF;\n",
              "      }\n",
              "    </style>\n",
              "    <button class=\"colab-df-generate\" onclick=\"generateWithVariable('base_dados')\"\n",
              "            title=\"Generate code using this dataframe.\"\n",
              "            style=\"display:none;\">\n",
              "\n",
              "  <svg xmlns=\"http://www.w3.org/2000/svg\" height=\"24px\"viewBox=\"0 0 24 24\"\n",
              "       width=\"24px\">\n",
              "    <path d=\"M7,19H8.4L18.45,9,17,7.55,7,17.6ZM5,21V16.75L18.45,3.32a2,2,0,0,1,2.83,0l1.4,1.43a1.91,1.91,0,0,1,.58,1.4,1.91,1.91,0,0,1-.58,1.4L9.25,21ZM18.45,9,17,7.55Zm-12,3A5.31,5.31,0,0,0,4.9,8.1,5.31,5.31,0,0,0,1,6.5,5.31,5.31,0,0,0,4.9,4.9,5.31,5.31,0,0,0,6.5,1,5.31,5.31,0,0,0,8.1,4.9,5.31,5.31,0,0,0,12,6.5,5.46,5.46,0,0,0,6.5,12Z\"/>\n",
              "  </svg>\n",
              "    </button>\n",
              "    <script>\n",
              "      (() => {\n",
              "      const buttonEl =\n",
              "        document.querySelector('#id_24b0040d-2c4b-4f8d-b567-f3e4ae48f495 button.colab-df-generate');\n",
              "      buttonEl.style.display =\n",
              "        google.colab.kernel.accessAllowed ? 'block' : 'none';\n",
              "\n",
              "      buttonEl.onclick = () => {\n",
              "        google.colab.notebook.generateWithVariable('base_dados');\n",
              "      }\n",
              "      })();\n",
              "    </script>\n",
              "  </div>\n",
              "\n",
              "    </div>\n",
              "  </div>\n"
            ],
            "application/vnd.google.colaboratory.intrinsic+json": {
              "type": "dataframe",
              "variable_name": "base_dados",
              "summary": "{\n  \"name\": \"base_dados\",\n  \"rows\": 196,\n  \"fields\": [\n    {\n      \"column\": \"texto\",\n      \"properties\": {\n        \"dtype\": \"string\",\n        \"num_unique_values\": 196,\n        \"samples\": [\n          \"cuidado curva em o estrada\",\n          \"perigoso\",\n          \"sentir animar\"\n        ],\n        \"semantic_type\": \"\",\n        \"description\": \"\"\n      }\n    },\n    {\n      \"column\": \"emocao\",\n      \"properties\": {\n        \"dtype\": \"category\",\n        \"num_unique_values\": 2,\n        \"samples\": [\n          \"medo\",\n          \"alegria\"\n        ],\n        \"semantic_type\": \"\",\n        \"description\": \"\"\n      }\n    }\n  ]\n}"
            }
          },
          "metadata": {},
          "execution_count": 51
        }
      ]
    },
    {
      "cell_type": "markdown",
      "source": [
        "# **PROCESSAMENTO**"
      ],
      "metadata": {
        "id": "3dXGy5Oa7XtR"
      }
    },
    {
      "cell_type": "code",
      "source": [
        "base_dados_final = []\n",
        "for texto, emocao in zip(base_dados['texto'], base_dados['emocao']):\n",
        "  if emocao == 'alegria':\n",
        "    dic = ({'ALEGRIA': True, 'MEDO': False})\n",
        "  elif emocao == 'medo':\n",
        "    dic = ({'ALEGRIA': False, 'MEDO': True})\n",
        "  base_dados_final.append([texto, dic.copy()])"
      ],
      "metadata": {
        "id": "3CRBuZYE7Z5x"
      },
      "execution_count": null,
      "outputs": []
    },
    {
      "cell_type": "code",
      "source": [
        "print(base_dados_final)"
      ],
      "metadata": {
        "colab": {
          "base_uri": "https://localhost:8080/"
        },
        "id": "EniCuS_M7vpK",
        "outputId": "3a85044e-97b0-48e6-f06d-a73c7fe9999b"
      },
      "execution_count": null,
      "outputs": [
        {
          "output_type": "stream",
          "name": "stdout",
          "text": [
            "[['trabalho agradável', {'ALEGRIA': True, 'MEDO': False}], ['gosto ficar em o aconchego', {'ALEGRIA': True, 'MEDO': False}], ['fiz adesão a o curso hoje', {'ALEGRIA': True, 'MEDO': False}], ['admirar', {'ALEGRIA': True, 'MEDO': False}], ['adorar', {'ALEGRIA': True, 'MEDO': False}], ['adorar cabelo macio', {'ALEGRIA': True, 'MEDO': False}], ['adorar cor de o olho', {'ALEGRIA': True, 'MEDO': False}], ['somo amável outro', {'ALEGRIA': True, 'MEDO': False}], ['sinto afeição', {'ALEGRIA': True, 'MEDO': False}], ['querer agradar filho', {'ALEGRIA': True, 'MEDO': False}], ['sinto completamente amar', {'ALEGRIA': True, 'MEDO': False}], ['amo', {'ALEGRIA': True, 'MEDO': False}], ['alívio', {'ALEGRIA': True, 'MEDO': False}], ['dor amenizar finalmente', {'ALEGRIA': True, 'MEDO': False}], ['achar apaixoneir', {'ALEGRIA': True, 'MEDO': False}], ['amar maravilhoso', {'ALEGRIA': True, 'MEDO': False}], ['sentir animar', {'ALEGRIA': True, 'MEDO': False}], ['sintar hoje', {'ALEGRIA': True, 'MEDO': False}], ['luar belo', {'ALEGRIA': True, 'MEDO': False}], ['dia bonito', {'ALEGRIA': True, 'MEDO': False}], ['afortunar', {'ALEGRIA': True, 'MEDO': False}], ['maravilha de o mundo', {'ALEGRIA': True, 'MEDO': False}], ['recebir carinho hoje de o colega', {'ALEGRIA': True, 'MEDO': False}], ['sentir reconfortar hoje', {'ALEGRIA': True, 'MEDO': False}], ['amigo', {'ALEGRIA': True, 'MEDO': False}], ['contente resultado de o teste', {'ALEGRIA': True, 'MEDO': False}], ['pintura brilhante', {'ALEGRIA': True, 'MEDO': False}], ['água abundância', {'ALEGRIA': True, 'MEDO': False}], ['roupa delicado', {'ALEGRIA': True, 'MEDO': False}], ['comediante', {'ALEGRIA': True, 'MEDO': False}], ['bondade vir', {'ALEGRIA': True, 'MEDO': False}], ['amor lir', {'ALEGRIA': True, 'MEDO': False}], ['amizade durar', {'ALEGRIA': True, 'MEDO': False}], ['eufórico notícia', {'ALEGRIA': True, 'MEDO': False}], ['realmente fiel', {'ALEGRIA': True, 'MEDO': False}], ['festa comemorar aniversário', {'ALEGRIA': True, 'MEDO': False}], ['graças deus enxerguei certo', {'ALEGRIA': True, 'MEDO': False}], ['escolha', {'ALEGRIA': True, 'MEDO': False}], ['incrível belo', {'ALEGRIA': True, 'MEDO': False}], ['engraçado explicar', {'ALEGRIA': True, 'MEDO': False}], ['emocionante em este', {'ALEGRIA': True, 'MEDO': False}], ['cativar por o olhar', {'ALEGRIA': True, 'MEDO': False}], ['loucamente apaixonar', {'ALEGRIA': True, 'MEDO': False}], ['dúvida', {'ALEGRIA': True, 'MEDO': False}], ['rodear por o abraço', {'ALEGRIA': True, 'MEDO': False}], ['vejo estrela por o', {'ALEGRIA': True, 'MEDO': False}], ['sintar sol', {'ALEGRIA': True, 'MEDO': False}], ['sorrir orelha orelha', {'ALEGRIA': True, 'MEDO': False}], ['valer pena', {'ALEGRIA': True, 'MEDO': False}], ['finalmente colocar amor', {'ALEGRIA': True, 'MEDO': False}], ['dançar noite adentro', {'ALEGRIA': True, 'MEDO': False}], ['amor brilhante', {'ALEGRIA': True, 'MEDO': False}], ['toquei coração durante', {'ALEGRIA': True, 'MEDO': False}], ['amiga companheiro', {'ALEGRIA': True, 'MEDO': False}], ['trazer volta vida', {'ALEGRIA': True, 'MEDO': False}], ['sonho doce', {'ALEGRIA': True, 'MEDO': False}], ['adorar doce fruta', {'ALEGRIA': True, 'MEDO': False}], ['suco favorito', {'ALEGRIA': True, 'MEDO': False}], ['agradecido por o ajuda', {'ALEGRIA': True, 'MEDO': False}], ['enorme prazer equipe', {'ALEGRIA': True, 'MEDO': False}], ['trabalhar equipe', {'ALEGRIA': True, 'MEDO': False}], ['sinto flutuar em o ar', {'ALEGRIA': True, 'MEDO': False}], ['brisa agradável hoje', {'ALEGRIA': True, 'MEDO': False}], ['compatível', {'ALEGRIA': True, 'MEDO': False}], ['compatível outro', {'ALEGRIA': True, 'MEDO': False}], ['órgão compatível paciente', {'ALEGRIA': True, 'MEDO': False}], ['contente aceitar em o faculdade', {'ALEGRIA': True, 'MEDO': False}], ['aprovar em o exame', {'ALEGRIA': True, 'MEDO': False}], ['beneficiar por o empresa', {'ALEGRIA': True, 'MEDO': False}], ['cativante', {'ALEGRIA': True, 'MEDO': False}], ['contente', {'ALEGRIA': True, 'MEDO': False}], ['confortável', {'ALEGRIA': True, 'MEDO': False}], ['quente em este frio', {'ALEGRIA': True, 'MEDO': False}], ['elogio', {'ALEGRIA': True, 'MEDO': False}], ['chamar comemorar', {'ALEGRIA': True, 'MEDO': False}], ['desejável presença apresentação', {'ALEGRIA': True, 'MEDO': False}], ['gratar', {'ALEGRIA': True, 'MEDO': False}], ['dedico em aquilo', {'ALEGRIA': True, 'MEDO': False}], ['completamente apaixonar', {'ALEGRIA': True, 'MEDO': False}], ['agitar noite', {'ALEGRIA': True, 'MEDO': False}], ['significar', {'ALEGRIA': True, 'MEDO': False}], ['agir preconceito julgamento', {'ALEGRIA': True, 'MEDO': False}], ['finalmente completar coleção maravilhoso', {'ALEGRIA': True, 'MEDO': False}], ['rainha', {'ALEGRIA': True, 'MEDO': False}], ['satisfatoriamente anunciar vencedor de o jogo', {'ALEGRIA': True, 'MEDO': False}], ['atrair facilmente', {'ALEGRIA': True, 'MEDO': False}], ['rapaz extremamente atraente', {'ALEGRIA': True, 'MEDO': False}], ['sinto-me viver', {'ALEGRIA': True, 'MEDO': False}], ['sinto-me paz', {'ALEGRIA': True, 'MEDO': False}], ['lucro', {'ALEGRIA': True, 'MEDO': False}], ['ordem', {'ALEGRIA': True, 'MEDO': False}], ['arrumar emprego junto', {'ALEGRIA': True, 'MEDO': False}], ['arrumação terminada alívio', {'ALEGRIA': True, 'MEDO': False}], ['câncer benigno', {'ALEGRIA': True, 'MEDO': False}], ['amor abundante', {'ALEGRIA': True, 'MEDO': False}], ['caridoso natal', {'ALEGRIA': True, 'MEDO': False}], ['charme atrair', {'ALEGRIA': True, 'MEDO': False}], ['charmoso querer', {'ALEGRIA': True, 'MEDO': False}], ['querida por o amigo', {'ALEGRIA': True, 'MEDO': False}], ['cuidadoso sentimento', {'ALEGRIA': True, 'MEDO': False}], ['comovido tamanho caridade', {'ALEGRIA': True, 'MEDO': False}], ['chá quente reconfortante', {'ALEGRIA': True, 'MEDO': False}], ['alegr', {'ALEGRIA': True, 'MEDO': False}], ['aplaudir vencedor', {'ALEGRIA': True, 'MEDO': False}], ['palma aniversariante', {'ALEGRIA': True, 'MEDO': False}], ['desejo', {'ALEGRIA': True, 'MEDO': False}], ['hora apreciar vinho', {'ALEGRIA': True, 'MEDO': False}], ['apreciar presença escola', {'ALEGRIA': True, 'MEDO': False}], ['anseio trabalho', {'ALEGRIA': True, 'MEDO': False}], ['maravilhoso jogo amistoso', {'ALEGRIA': True, 'MEDO': False}], ['menimo apaziguar', {'ALEGRIA': True, 'MEDO': False}], ['concretizar finalmente sonho', {'ALEGRIA': True, 'MEDO': False}], ['imploror matem', {'ALEGRIA': False, 'MEDO': True}], ['perigoso', {'ALEGRIA': False, 'MEDO': True}], ['seguro', {'ALEGRIA': False, 'MEDO': True}], ['correr pra', {'ALEGRIA': False, 'MEDO': True}], ['socorro querer roubar doce', {'ALEGRIA': False, 'MEDO': True}], ['cara perseguir', {'ALEGRIA': False, 'MEDO': True}], ['entro perigoso', {'ALEGRIA': False, 'MEDO': True}], ['continuar assustador', {'ALEGRIA': False, 'MEDO': True}], ['em o selva animal perigoso', {'ALEGRIA': False, 'MEDO': True}], ['avancer cautela', {'ALEGRIA': False, 'MEDO': True}], ['silencioso cuidado', {'ALEGRIA': False, 'MEDO': True}], ['deixe-me viver', {'ALEGRIA': False, 'MEDO': True}], ['ficar mesada tirar nota', {'ALEGRIA': False, 'MEDO': True}], ['parecer olho em o vigiar', {'ALEGRIA': False, 'MEDO': True}], ['temo sentença de o juiz negativo', {'ALEGRIA': False, 'MEDO': True}], ['missão arriscar', {'ALEGRIA': False, 'MEDO': True}], ['salvem se puder', {'ALEGRIA': False, 'MEDO': True}], ['plano descobrir', {'ALEGRIA': False, 'MEDO': True}], ['culpa juro', {'ALEGRIA': False, 'MEDO': True}], ['tomar cuidado lobisomem', {'ALEGRIA': False, 'MEDO': True}], ['achar descobrir verdade', {'ALEGRIA': False, 'MEDO': True}], ['deus desaparecer', {'ALEGRIA': False, 'MEDO': True}], ['tomaro vejam de aqui', {'ALEGRIA': False, 'MEDO': True}], ['manter segredo descobrir estaremo ferrado', {'ALEGRIA': False, 'MEDO': True}], ['soltar inocente', {'ALEGRIA': False, 'MEDO': True}], ['ouvir passo', {'ALEGRIA': False, 'MEDO': True}], ['pedir socorro', {'ALEGRIA': False, 'MEDO': True}], ['cuidado curva em o estrada', {'ALEGRIA': False, 'MEDO': True}], ['parecer perigoso', {'ALEGRIA': False, 'MEDO': True}], ['tremer medo', {'ALEGRIA': False, 'MEDO': True}], ['socorro cair', {'ALEGRIA': False, 'MEDO': True}], ['floresta negro perigoso', {'ALEGRIA': False, 'MEDO': True}], ['ouço passo em o direção', {'ALEGRIA': False, 'MEDO': True}], ['achar arriscado', {'ALEGRIA': False, 'MEDO': True}], ['voltar perigoso', {'ALEGRIA': False, 'MEDO': True}], ['fuja acabaremo morto', {'ALEGRIA': False, 'MEDO': True}], ['receiar livrar de este situação', {'ALEGRIA': False, 'MEDO': True}], ['socorro armado', {'ALEGRIA': False, 'MEDO': True}], ['ei cuidado bater em o poste', {'ALEGRIA': False, 'MEDO': True}], ['socorro afundar', {'ALEGRIA': False, 'MEDO': True}], ['sério cuidado arma', {'ALEGRIA': False, 'MEDO': True}], ['tubarão atacar', {'ALEGRIA': False, 'MEDO': True}], ['sinto arrepio fico sozinho em o escuro', {'ALEGRIA': False, 'MEDO': True}], ['calmo dinheiro', {'ALEGRIA': False, 'MEDO': True}], ['achar enganar', {'ALEGRIA': False, 'MEDO': True}], ['ligeiro fugir depressa', {'ALEGRIA': False, 'MEDO': True}], ['crocodilo selvagem vir', {'ALEGRIA': False, 'MEDO': True}], ['ficarmos achar', {'ALEGRIA': False, 'MEDO': True}], ['fuja tigre parecer faminto', {'ALEGRIA': False, 'MEDO': True}], ['saída preciso milagre', {'ALEGRIA': False, 'MEDO': True}], ['tirar socorro', {'ALEGRIA': False, 'MEDO': True}], ['nadar afogar', {'ALEGRIA': False, 'MEDO': True}], ['certezar seguro', {'ALEGRIA': False, 'MEDO': True}], ['apanhar pai boletim', {'ALEGRIA': False, 'MEDO': True}], ['consigo sair de aqui', {'ALEGRIA': False, 'MEDO': True}], ['sair assaltar', {'ALEGRIA': False, 'MEDO': True}], ['deixar', {'ALEGRIA': False, 'MEDO': True}], ['esperar largar sozinho', {'ALEGRIA': False, 'MEDO': True}], ['temo por o segurança', {'ALEGRIA': False, 'MEDO': True}], ['entregar dinheiro mate', {'ALEGRIA': False, 'MEDO': True}], ['levar dinheiro', {'ALEGRIA': False, 'MEDO': True}], ['dirijar rápido', {'ALEGRIA': False, 'MEDO': True}], ['descobrir prender', {'ALEGRIA': False, 'MEDO': True}], ['esperar façam nenhum', {'ALEGRIA': False, 'MEDO': True}], ['afogar ajudar sair de o água', {'ALEGRIA': False, 'MEDO': True}], ['estarer salvo', {'ALEGRIA': False, 'MEDO': True}], ['querer pensar em o acontecer', {'ALEGRIA': False, 'MEDO': True}], ['em esse cidade desgraça de o outro', {'ALEGRIA': False, 'MEDO': True}], ['alguém ligar assustado', {'ALEGRIA': False, 'MEDO': True}], ['remediar matar', {'ALEGRIA': False, 'MEDO': True}], ['confior em ele cautela', {'ALEGRIA': False, 'MEDO': True}], ['cautela', {'ALEGRIA': False, 'MEDO': True}], ['descobrir deus', {'ALEGRIA': False, 'MEDO': True}], ['receiar', {'ALEGRIA': False, 'MEDO': True}], ['noite perigoso', {'ALEGRIA': False, 'MEDO': True}], ['estremecer casa', {'ALEGRIA': False, 'MEDO': True}], ['olhar criatura mover monstruosamente', {'ALEGRIA': False, 'MEDO': True}], ['aguentar suspense', {'ALEGRIA': False, 'MEDO': True}], ['afugente cão', {'ALEGRIA': False, 'MEDO': True}], ['chocado amedrontar assassinato brutal', {'ALEGRIA': False, 'MEDO': True}], ['preciso afugentar ímpeto medo de o inferno', {'ALEGRIA': False, 'MEDO': True}], ['político força afugentar amedrontar', {'ALEGRIA': False, 'MEDO': True}], ['objetivo de isso amedrontar', {'ALEGRIA': False, 'MEDO': True}], ['apavorar', {'ALEGRIA': False, 'MEDO': True}]]\n"
          ]
        }
      ]
    },
    {
      "cell_type": "code",
      "source": [
        "len(base_dados_final)"
      ],
      "metadata": {
        "colab": {
          "base_uri": "https://localhost:8080/"
        },
        "id": "bNIJD_SI8dsb",
        "outputId": "1ab5136e-1581-4653-9c5f-cc275968eec4"
      },
      "execution_count": null,
      "outputs": [
        {
          "output_type": "execute_result",
          "data": {
            "text/plain": [
              "196"
            ]
          },
          "metadata": {},
          "execution_count": 62
        }
      ]
    },
    {
      "cell_type": "markdown",
      "source": [
        "# **CLASSIFICADOR**"
      ],
      "metadata": {
        "id": "b4tpqAoY-RkK"
      }
    },
    {
      "cell_type": "code",
      "source": [
        "from spacy.training import Example"
      ],
      "metadata": {
        "id": "dHefaRLrAdKj"
      },
      "execution_count": null,
      "outputs": []
    },
    {
      "cell_type": "code",
      "source": [
        "modelo = spacy.blank('pt')\n",
        "textcat = modelo.add_pipe(\"textcat\")\n",
        "textcat.add_label(\"ALEGRIA\")\n",
        "textcat.add_label(\"MEDO\")\n",
        "historico = []"
      ],
      "metadata": {
        "id": "Ax3dqvxE-YDS"
      },
      "execution_count": null,
      "outputs": []
    },
    {
      "cell_type": "code",
      "source": [
        "modelo.begin_training()\n",
        "for epoca in range(1000):\n",
        "  random.shuffle(base_dados_final)\n",
        "  losses = {}\n",
        "  for batch in spacy.util.minibatch(base_dados_final, 30):\n",
        "    textos = [modelo(texto) for texto, entities in batch]\n",
        "    annotations = [{'cats': entities} for texto, entities in batch]\n",
        "    examples = [Example.from_dict(doc, annotation) for doc, annotation in zip(\n",
        "            textos, annotations\n",
        "        )]\n",
        "    modelo.update(examples, losses=losses)\n",
        "  if epoca % 100 == 0:\n",
        "    print(losses)\n",
        "    historico.append(losses)"
      ],
      "metadata": {
        "colab": {
          "base_uri": "https://localhost:8080/"
        },
        "id": "CdkmF19Z-qtq",
        "outputId": "4494bdab-3c6d-47e2-9f40-ffab40efbe2b"
      },
      "execution_count": null,
      "outputs": [
        {
          "output_type": "stream",
          "name": "stdout",
          "text": [
            "{'textcat': 1.703735813498497}\n",
            "{'textcat': 2.9593008599171355e-11}\n",
            "{'textcat': 3.939206396513274e-12}\n",
            "{'textcat': 1.0651202278022867e-12}\n",
            "{'textcat': 3.8083269617548727e-13}\n",
            "{'textcat': 1.6801377251810835e-13}\n",
            "{'textcat': 7.992251202211878e-14}\n",
            "{'textcat': 3.8255943213077147e-14}\n",
            "{'textcat': 2.001720982327439e-14}\n",
            "{'textcat': 1.157785623973336e-14}\n"
          ]
        }
      ]
    },
    {
      "cell_type": "code",
      "source": [
        "historico_loss = []\n",
        "for i in historico:\n",
        "  historico_loss.append(i.get('textcat'))"
      ],
      "metadata": {
        "id": "UxtaqzFwAT-U"
      },
      "execution_count": null,
      "outputs": []
    },
    {
      "cell_type": "code",
      "source": [
        "historico_loss = np.array(historico_loss)\n",
        "historico_loss"
      ],
      "metadata": {
        "colab": {
          "base_uri": "https://localhost:8080/"
        },
        "id": "QQasV_fsAmlC",
        "outputId": "663c3f99-ba4f-429f-ab9c-214049fe61b4"
      },
      "execution_count": null,
      "outputs": [
        {
          "output_type": "execute_result",
          "data": {
            "text/plain": [
              "array([1.70373581e+00, 2.95930086e-11, 3.93920640e-12, 1.06512023e-12,\n",
              "       3.80832696e-13, 1.68013773e-13, 7.99225120e-14, 3.82559432e-14,\n",
              "       2.00172098e-14, 1.15778562e-14])"
            ]
          },
          "metadata": {},
          "execution_count": 73
        }
      ]
    },
    {
      "cell_type": "code",
      "source": [
        "import matplotlib.pyplot as plt\n",
        "plt.plot(historico_loss)\n",
        "plt.title('Progressão do erro')\n",
        "plt.xlabel('Épocas')\n",
        "plt.ylabel('Erro')"
      ],
      "metadata": {
        "colab": {
          "base_uri": "https://localhost:8080/",
          "height": 491
        },
        "id": "BfwhCnP6AnlC",
        "outputId": "669c8d17-e1ed-4c05-82ed-ee581706929b"
      },
      "execution_count": null,
      "outputs": [
        {
          "output_type": "execute_result",
          "data": {
            "text/plain": [
              "Text(0, 0.5, 'Erro')"
            ]
          },
          "metadata": {},
          "execution_count": 74
        },
        {
          "output_type": "display_data",
          "data": {
            "text/plain": [
              "<Figure size 640x480 with 1 Axes>"
            ],
            "image/png": "[encoded data removed]"
          },
          "metadata": {}
        }
      ]
    },
    {
      "cell_type": "code",
      "source": [
        "modelo.to_disk(\"modelo\")"
      ],
      "metadata": {
        "id": "2hq_Okl8Aqcx"
      },
      "execution_count": null,
      "outputs": []
    },
    {
      "cell_type": "markdown",
      "source": [
        "# **TESTES**"
      ],
      "metadata": {
        "id": "M44OarlAFoie"
      }
    },
    {
      "cell_type": "code",
      "source": [
        "modelo_carregado = spacy.load(\"modelo\")\n",
        "modelo_carregado"
      ],
      "metadata": {
        "colab": {
          "base_uri": "https://localhost:8080/"
        },
        "id": "7Te6rCV7Fquq",
        "outputId": "e7798fe9-bf85-4f16-d35b-63f5122a29b6"
      },
      "execution_count": null,
      "outputs": [
        {
          "output_type": "execute_result",
          "data": {
            "text/plain": [
              "<spacy.lang.pt.Portuguese at 0x7ff123a9e6b0>"
            ]
          },
          "metadata": {},
          "execution_count": 76
        }
      ]
    },
    {
      "cell_type": "code",
      "source": [
        "texto_positivo = 'eu adoro cor dos seus olhos'"
      ],
      "metadata": {
        "id": "a3sE7jMJFswL"
      },
      "execution_count": null,
      "outputs": []
    },
    {
      "cell_type": "code",
      "source": [
        "texto_positivo = preprocessamento(texto_positivo)\n",
        "texto_positivo"
      ],
      "metadata": {
        "colab": {
          "base_uri": "https://localhost:8080/",
          "height": 35
        },
        "id": "Q1m_HjsaFtsj",
        "outputId": "9ea2a6bb-14ef-4e89-dfdf-aff7d05130ed"
      },
      "execution_count": null,
      "outputs": [
        {
          "output_type": "execute_result",
          "data": {
            "text/plain": [
              "'adorar cor de o olho'"
            ],
            "application/vnd.google.colaboratory.intrinsic+json": {
              "type": "string"
            }
          },
          "metadata": {},
          "execution_count": 78
        }
      ]
    },
    {
      "cell_type": "code",
      "source": [
        "previsao = modelo_carregado(texto_positivo)\n",
        "previsao"
      ],
      "metadata": {
        "colab": {
          "base_uri": "https://localhost:8080/"
        },
        "id": "I_RMs9AgFwUe",
        "outputId": "3b70b8cb-e56e-4b8f-b8dc-78dfa06617db"
      },
      "execution_count": null,
      "outputs": [
        {
          "output_type": "execute_result",
          "data": {
            "text/plain": [
              "adorar cor de o olho"
            ]
          },
          "metadata": {},
          "execution_count": 79
        }
      ]
    },
    {
      "cell_type": "code",
      "source": [
        "previsao.cats"
      ],
      "metadata": {
        "colab": {
          "base_uri": "https://localhost:8080/"
        },
        "id": "B6DLnW6uFw-r",
        "outputId": "caf9ec9f-1183-462b-b8be-437c9404dd4c"
      },
      "execution_count": null,
      "outputs": [
        {
          "output_type": "execute_result",
          "data": {
            "text/plain": [
              "{'ALEGRIA': 1.0, 'MEDO': 3.626724165428641e-08}"
            ]
          },
          "metadata": {},
          "execution_count": 80
        }
      ]
    },
    {
      "cell_type": "code",
      "source": [
        "texto_negativo = 'estou com medo dele'\n",
        "previsao = modelo_carregado(preprocessamento(texto_negativo))\n",
        "previsao.cats"
      ],
      "metadata": {
        "colab": {
          "base_uri": "https://localhost:8080/"
        },
        "id": "IFRYZLY1Fy4L",
        "outputId": "79450b48-a5c9-49af-b0f6-38628cf2b49f"
      },
      "execution_count": null,
      "outputs": [
        {
          "output_type": "execute_result",
          "data": {
            "text/plain": [
              "{'ALEGRIA': 3.137268436148588e-07, 'MEDO': 0.9999996423721313}"
            ]
          },
          "metadata": {},
          "execution_count": 81
        }
      ]
    },
    {
      "cell_type": "markdown",
      "source": [
        "# **AVALIAÇÃO**"
      ],
      "metadata": {
        "id": "Om0w6XnKGbI7"
      }
    },
    {
      "cell_type": "code",
      "source": [
        "previsoes = []\n",
        "for texto in base_dados['texto']:\n",
        "  previsao = modelo_carregado(texto)\n",
        "  previsoes.append(previsao.cats)"
      ],
      "metadata": {
        "id": "H0mqggbJGepz"
      },
      "execution_count": null,
      "outputs": []
    },
    {
      "cell_type": "code",
      "source": [
        "previsoes"
      ],
      "metadata": {
        "colab": {
          "base_uri": "https://localhost:8080/"
        },
        "id": "xb180wjVGg1z",
        "outputId": "7919dbe2-8a84-4da3-a244-c694d6c5fdd7"
      },
      "execution_count": null,
      "outputs": [
        {
          "output_type": "execute_result",
          "data": {
            "text/plain": [
              "[{'ALEGRIA': 1.0, 'MEDO': 6.072527813927309e-09},\n",
              " {'ALEGRIA': 0.9999998807907104, 'MEDO': 6.314408551588713e-08},\n",
              " {'ALEGRIA': 1.0, 'MEDO': 1.919894909718778e-09},\n",
              " {'ALEGRIA': 1.0, 'MEDO': 1.8240246646428204e-08},\n",
              " {'ALEGRIA': 1.0, 'MEDO': 2.6231594674186454e-09},\n",
              " {'ALEGRIA': 1.0, 'MEDO': 2.0838921699350976e-08},\n",
              " {'ALEGRIA': 1.0, 'MEDO': 3.626724165428641e-08},\n",
              " {'ALEGRIA': 1.0, 'MEDO': 4.9172541594089125e-08},\n",
              " {'ALEGRIA': 1.0, 'MEDO': 2.4852790048157658e-08},\n",
              " {'ALEGRIA': 1.0, 'MEDO': 1.0846118669860516e-08},\n",
              " {'ALEGRIA': 1.0, 'MEDO': 1.1412516265352224e-08},\n",
              " {'ALEGRIA': 1.0, 'MEDO': 2.902138529492504e-09},\n",
              " {'ALEGRIA': 1.0, 'MEDO': 5.854927653814457e-09},\n",
              " {'ALEGRIA': 1.0, 'MEDO': 2.7344325914668843e-08},\n",
              " {'ALEGRIA': 0.9999998807907104, 'MEDO': 9.474965168010385e-08},\n",
              " {'ALEGRIA': 1.0, 'MEDO': 1.8857628347745958e-08},\n",
              " {'ALEGRIA': 1.0, 'MEDO': 8.431546127951606e-09},\n",
              " {'ALEGRIA': 1.0, 'MEDO': 3.376816826161644e-09},\n",
              " {'ALEGRIA': 1.0, 'MEDO': 1.3406051380115969e-08},\n",
              " {'ALEGRIA': 1.0, 'MEDO': 6.22455420540291e-09},\n",
              " {'ALEGRIA': 1.0, 'MEDO': 6.8391270424683626e-09},\n",
              " {'ALEGRIA': 1.0, 'MEDO': 3.098695344760927e-08},\n",
              " {'ALEGRIA': 1.0, 'MEDO': 6.992690426699255e-09},\n",
              " {'ALEGRIA': 1.0, 'MEDO': 2.725755621213466e-09},\n",
              " {'ALEGRIA': 1.0, 'MEDO': 8.86843309899632e-09},\n",
              " {'ALEGRIA': 1.0, 'MEDO': 2.2277895084243937e-08},\n",
              " {'ALEGRIA': 1.0, 'MEDO': 1.5755595939026534e-08},\n",
              " {'ALEGRIA': 1.0, 'MEDO': 1.2043563479835484e-08},\n",
              " {'ALEGRIA': 1.0, 'MEDO': 1.47791228144456e-08},\n",
              " {'ALEGRIA': 1.0, 'MEDO': 5.803627356470997e-09},\n",
              " {'ALEGRIA': 1.0, 'MEDO': 6.065675517419322e-09},\n",
              " {'ALEGRIA': 1.0, 'MEDO': 2.729982284677135e-08},\n",
              " {'ALEGRIA': 1.0, 'MEDO': 4.2165765989921056e-08},\n",
              " {'ALEGRIA': 1.0, 'MEDO': 1.6938498603735752e-08},\n",
              " {'ALEGRIA': 1.0, 'MEDO': 9.399217404393312e-09},\n",
              " {'ALEGRIA': 1.0, 'MEDO': 1.990744635804731e-08},\n",
              " {'ALEGRIA': 1.0, 'MEDO': 2.428985901303804e-08},\n",
              " {'ALEGRIA': 1.0, 'MEDO': 7.516069544521997e-09},\n",
              " {'ALEGRIA': 1.0, 'MEDO': 4.863951463818239e-09},\n",
              " {'ALEGRIA': 1.0, 'MEDO': 1.959675266505201e-08},\n",
              " {'ALEGRIA': 1.0, 'MEDO': 3.839317841425327e-08},\n",
              " {'ALEGRIA': 1.0, 'MEDO': 4.116811069820869e-08},\n",
              " {'ALEGRIA': 1.0, 'MEDO': 1.9313551646860105e-08},\n",
              " {'ALEGRIA': 1.0, 'MEDO': 6.5824194983576945e-09},\n",
              " {'ALEGRIA': 1.0, 'MEDO': 3.5554037935980887e-08},\n",
              " {'ALEGRIA': 1.0, 'MEDO': 3.8500974852695435e-08},\n",
              " {'ALEGRIA': 1.0, 'MEDO': 5.0822936970007504e-08},\n",
              " {'ALEGRIA': 1.0, 'MEDO': 1.0730641264444785e-08},\n",
              " {'ALEGRIA': 1.0, 'MEDO': 1.8069220786287588e-08},\n",
              " {'ALEGRIA': 1.0, 'MEDO': 1.4586422736329041e-08},\n",
              " {'ALEGRIA': 1.0, 'MEDO': 3.3595114246054436e-08},\n",
              " {'ALEGRIA': 1.0, 'MEDO': 6.619207848501674e-09},\n",
              " {'ALEGRIA': 1.0, 'MEDO': 2.3680705396600388e-08},\n",
              " {'ALEGRIA': 1.0, 'MEDO': 1.9186879640642474e-08},\n",
              " {'ALEGRIA': 1.0, 'MEDO': 2.0587384241821383e-08},\n",
              " {'ALEGRIA': 1.0, 'MEDO': 3.333863674015447e-08},\n",
              " {'ALEGRIA': 1.0, 'MEDO': 1.484395717454845e-08},\n",
              " {'ALEGRIA': 1.0, 'MEDO': 4.681070642220675e-09},\n",
              " {'ALEGRIA': 1.0, 'MEDO': 3.189907715750451e-08},\n",
              " {'ALEGRIA': 1.0, 'MEDO': 2.7516875888977665e-08},\n",
              " {'ALEGRIA': 1.0, 'MEDO': 1.2645354097173822e-08},\n",
              " {'ALEGRIA': 0.9999998807907104, 'MEDO': 6.712889444315806e-08},\n",
              " {'ALEGRIA': 1.0, 'MEDO': 6.552928755176879e-10},\n",
              " {'ALEGRIA': 1.0, 'MEDO': 1.7654814277179298e-09},\n",
              " {'ALEGRIA': 1.0, 'MEDO': 1.7546591735140282e-08},\n",
              " {'ALEGRIA': 1.0, 'MEDO': 2.0490503516157332e-08},\n",
              " {'ALEGRIA': 1.0, 'MEDO': 1.4134408310439994e-08},\n",
              " {'ALEGRIA': 1.0, 'MEDO': 5.486723608782995e-08},\n",
              " {'ALEGRIA': 1.0, 'MEDO': 1.4211777532580072e-08},\n",
              " {'ALEGRIA': 1.0, 'MEDO': 3.3472802307699112e-09},\n",
              " {'ALEGRIA': 1.0, 'MEDO': 1.2943469629433935e-09},\n",
              " {'ALEGRIA': 1.0, 'MEDO': 4.628864846978331e-09},\n",
              " {'ALEGRIA': 1.0, 'MEDO': 2.0037690617868975e-08},\n",
              " {'ALEGRIA': 1.0, 'MEDO': 6.615749725824571e-09},\n",
              " {'ALEGRIA': 1.0, 'MEDO': 1.0460236232745501e-08},\n",
              " {'ALEGRIA': 1.0, 'MEDO': 8.752617297602683e-09},\n",
              " {'ALEGRIA': 1.0, 'MEDO': 1.5369820971500303e-08},\n",
              " {'ALEGRIA': 1.0, 'MEDO': 3.9849705757433185e-08},\n",
              " {'ALEGRIA': 1.0, 'MEDO': 7.525177814216022e-09},\n",
              " {'ALEGRIA': 1.0, 'MEDO': 2.089998396570536e-08},\n",
              " {'ALEGRIA': 1.0, 'MEDO': 4.030790989872912e-08},\n",
              " {'ALEGRIA': 1.0, 'MEDO': 1.5439455935961632e-08},\n",
              " {'ALEGRIA': 1.0, 'MEDO': 2.5328613872943606e-08},\n",
              " {'ALEGRIA': 1.0, 'MEDO': 1.7531807117165954e-08},\n",
              " {'ALEGRIA': 1.0, 'MEDO': 4.213385551565807e-08},\n",
              " {'ALEGRIA': 1.0, 'MEDO': 1.9115796945357033e-08},\n",
              " {'ALEGRIA': 1.0, 'MEDO': 1.9111055848952674e-08},\n",
              " {'ALEGRIA': 0.9999998807907104, 'MEDO': 1.627885666266593e-07},\n",
              " {'ALEGRIA': 1.0, 'MEDO': 1.917542746809886e-08},\n",
              " {'ALEGRIA': 1.0, 'MEDO': 1.2390532155848177e-08},\n",
              " {'ALEGRIA': 1.0, 'MEDO': 1.037612307186464e-08},\n",
              " {'ALEGRIA': 1.0, 'MEDO': 6.831773813331665e-09},\n",
              " {'ALEGRIA': 1.0, 'MEDO': 1.6525932622357686e-08},\n",
              " {'ALEGRIA': 1.0, 'MEDO': 1.6192018392757745e-08},\n",
              " {'ALEGRIA': 1.0, 'MEDO': 1.0044939990905277e-08},\n",
              " {'ALEGRIA': 1.0, 'MEDO': 1.1720228343392591e-08},\n",
              " {'ALEGRIA': 1.0, 'MEDO': 7.619185282692342e-09},\n",
              " {'ALEGRIA': 1.0, 'MEDO': 2.0039372827795887e-08},\n",
              " {'ALEGRIA': 1.0, 'MEDO': 2.497291262670842e-08},\n",
              " {'ALEGRIA': 1.0, 'MEDO': 1.1933826371546274e-08},\n",
              " {'ALEGRIA': 1.0, 'MEDO': 1.638032287587521e-08},\n",
              " {'ALEGRIA': 1.0, 'MEDO': 5.180296636098092e-09},\n",
              " {'ALEGRIA': 1.0, 'MEDO': 1.2031738272355597e-08},\n",
              " {'ALEGRIA': 1.0, 'MEDO': 1.9836077669310725e-08},\n",
              " {'ALEGRIA': 1.0, 'MEDO': 1.1488540785364876e-08},\n",
              " {'ALEGRIA': 1.0, 'MEDO': 3.711554441565568e-08},\n",
              " {'ALEGRIA': 1.0, 'MEDO': 6.357840032222839e-09},\n",
              " {'ALEGRIA': 1.0, 'MEDO': 1.258555926142435e-08},\n",
              " {'ALEGRIA': 1.0, 'MEDO': 3.793718228450871e-09},\n",
              " {'ALEGRIA': 1.0, 'MEDO': 2.5273696024896708e-08},\n",
              " {'ALEGRIA': 1.0, 'MEDO': 2.2364748275549573e-08},\n",
              " {'ALEGRIA': 1.0, 'MEDO': 1.586034237277545e-08},\n",
              " {'ALEGRIA': 2.8272824081909675e-08, 'MEDO': 1.0},\n",
              " {'ALEGRIA': 5.400667912880408e-09, 'MEDO': 1.0},\n",
              " {'ALEGRIA': 1.0268704109250848e-08, 'MEDO': 1.0},\n",
              " {'ALEGRIA': 6.903397853363913e-09, 'MEDO': 1.0},\n",
              " {'ALEGRIA': 2.8626232051465195e-08, 'MEDO': 1.0},\n",
              " {'ALEGRIA': 7.977804195036242e-09, 'MEDO': 1.0},\n",
              " {'ALEGRIA': 4.505100292817588e-09, 'MEDO': 1.0},\n",
              " {'ALEGRIA': 6.797928620017046e-08, 'MEDO': 0.9999998807907104},\n",
              " {'ALEGRIA': 1.6367454946930593e-08, 'MEDO': 1.0},\n",
              " {'ALEGRIA': 1.8936093582055946e-08, 'MEDO': 1.0},\n",
              " {'ALEGRIA': 1.0018439411396685e-08, 'MEDO': 1.0},\n",
              " {'ALEGRIA': 1.4267160963754577e-07, 'MEDO': 0.9999998807907104},\n",
              " {'ALEGRIA': 2.8449765210325495e-08, 'MEDO': 1.0},\n",
              " {'ALEGRIA': 1.7225108450702464e-08, 'MEDO': 1.0},\n",
              " {'ALEGRIA': 1.1964549351262121e-08, 'MEDO': 1.0},\n",
              " {'ALEGRIA': 1.8605465612608896e-08, 'MEDO': 1.0},\n",
              " {'ALEGRIA': 1.9419417185417842e-08, 'MEDO': 1.0},\n",
              " {'ALEGRIA': 9.49533252025958e-09, 'MEDO': 1.0},\n",
              " {'ALEGRIA': 2.35829844541513e-08, 'MEDO': 1.0},\n",
              " {'ALEGRIA': 1.6521205736808042e-08, 'MEDO': 1.0},\n",
              " {'ALEGRIA': 4.570107492440911e-08, 'MEDO': 1.0},\n",
              " {'ALEGRIA': 1.3016758337869305e-08, 'MEDO': 1.0},\n",
              " {'ALEGRIA': 4.233475792148056e-08, 'MEDO': 1.0},\n",
              " {'ALEGRIA': 2.0227036046094327e-08, 'MEDO': 1.0},\n",
              " {'ALEGRIA': 3.3525214604424036e-08, 'MEDO': 1.0},\n",
              " {'ALEGRIA': 7.862108297729264e-09, 'MEDO': 1.0},\n",
              " {'ALEGRIA': 2.368129514707107e-08, 'MEDO': 1.0},\n",
              " {'ALEGRIA': 2.6790898388640016e-08, 'MEDO': 1.0},\n",
              " {'ALEGRIA': 1.029221419202031e-08, 'MEDO': 1.0},\n",
              " {'ALEGRIA': 2.8106198257660253e-08, 'MEDO': 1.0},\n",
              " {'ALEGRIA': 1.2997903198197491e-08, 'MEDO': 1.0},\n",
              " {'ALEGRIA': 6.3737704003585804e-09, 'MEDO': 1.0},\n",
              " {'ALEGRIA': 3.679364013464692e-08, 'MEDO': 1.0},\n",
              " {'ALEGRIA': 3.779924639957244e-08, 'MEDO': 1.0},\n",
              " {'ALEGRIA': 5.955676840585511e-09, 'MEDO': 1.0},\n",
              " {'ALEGRIA': 1.947282868286493e-08, 'MEDO': 1.0},\n",
              " {'ALEGRIA': 5.764906063632225e-08, 'MEDO': 1.0},\n",
              " {'ALEGRIA': 2.056144410289562e-08, 'MEDO': 1.0},\n",
              " {'ALEGRIA': 5.1105999432365934e-08, 'MEDO': 1.0},\n",
              " {'ALEGRIA': 1.8772182031057127e-08, 'MEDO': 1.0},\n",
              " {'ALEGRIA': 3.3097620644184644e-08, 'MEDO': 1.0},\n",
              " {'ALEGRIA': 3.3507060237525366e-08, 'MEDO': 1.0},\n",
              " {'ALEGRIA': 9.064159200988797e-08, 'MEDO': 0.9999998807907104},\n",
              " {'ALEGRIA': 4.587090707275365e-09, 'MEDO': 1.0},\n",
              " {'ALEGRIA': 5.224086763178093e-08, 'MEDO': 1.0},\n",
              " {'ALEGRIA': 2.9185159178268805e-08, 'MEDO': 1.0},\n",
              " {'ALEGRIA': 1.6462132990113787e-08, 'MEDO': 1.0},\n",
              " {'ALEGRIA': 5.1623871399897325e-08, 'MEDO': 1.0},\n",
              " {'ALEGRIA': 1.505306279625529e-08, 'MEDO': 1.0},\n",
              " {'ALEGRIA': 1.5294050470515685e-08, 'MEDO': 1.0},\n",
              " {'ALEGRIA': 1.916544611901827e-08, 'MEDO': 1.0},\n",
              " {'ALEGRIA': 3.166520912145643e-08, 'MEDO': 1.0},\n",
              " {'ALEGRIA': 1.4780560775307094e-08, 'MEDO': 1.0},\n",
              " {'ALEGRIA': 1.5843742318111254e-08, 'MEDO': 1.0},\n",
              " {'ALEGRIA': 1.3096099316101117e-08, 'MEDO': 1.0},\n",
              " {'ALEGRIA': 3.7026786081639784e-09, 'MEDO': 1.0},\n",
              " {'ALEGRIA': 2.8775735572139638e-08, 'MEDO': 1.0},\n",
              " {'ALEGRIA': 4.034359690763267e-08, 'MEDO': 1.0},\n",
              " {'ALEGRIA': 5.007099446174834e-08, 'MEDO': 1.0},\n",
              " {'ALEGRIA': 7.650406530501641e-09, 'MEDO': 1.0},\n",
              " {'ALEGRIA': 5.876743980337551e-09, 'MEDO': 1.0},\n",
              " {'ALEGRIA': 2.6819275689149435e-08, 'MEDO': 1.0},\n",
              " {'ALEGRIA': 9.979077120192414e-09, 'MEDO': 1.0},\n",
              " {'ALEGRIA': 4.2550983181399715e-08, 'MEDO': 1.0},\n",
              " {'ALEGRIA': 1.411167360743093e-08, 'MEDO': 1.0},\n",
              " {'ALEGRIA': 2.9729918082921358e-08, 'MEDO': 1.0},\n",
              " {'ALEGRIA': 3.154717020947828e-08, 'MEDO': 1.0},\n",
              " {'ALEGRIA': 7.203225749208286e-08, 'MEDO': 0.9999998807907104},\n",
              " {'ALEGRIA': 3.543643956049891e-08, 'MEDO': 1.0},\n",
              " {'ALEGRIA': 1.5109412387914745e-08, 'MEDO': 1.0},\n",
              " {'ALEGRIA': 4.989148294498591e-08, 'MEDO': 1.0},\n",
              " {'ALEGRIA': 2.2781765807167176e-08, 'MEDO': 1.0},\n",
              " {'ALEGRIA': 8.368293613614242e-09, 'MEDO': 1.0},\n",
              " {'ALEGRIA': 2.0294859126579468e-08, 'MEDO': 1.0},\n",
              " {'ALEGRIA': 1.3508772767067967e-08, 'MEDO': 1.0},\n",
              " {'ALEGRIA': 1.9410899554372918e-08, 'MEDO': 1.0},\n",
              " {'ALEGRIA': 5.2755645185698086e-08, 'MEDO': 1.0},\n",
              " {'ALEGRIA': 5.454429086171331e-08, 'MEDO': 1.0},\n",
              " {'ALEGRIA': 3.0214863500077627e-08, 'MEDO': 1.0},\n",
              " {'ALEGRIA': 3.6362415301027795e-08, 'MEDO': 1.0},\n",
              " {'ALEGRIA': 3.0386917870828256e-08, 'MEDO': 1.0},\n",
              " {'ALEGRIA': 4.196174785420226e-08, 'MEDO': 1.0},\n",
              " {'ALEGRIA': 1.4579885743160048e-08, 'MEDO': 1.0},\n",
              " {'ALEGRIA': 2.6765871297129706e-08, 'MEDO': 1.0}]"
            ]
          },
          "metadata": {},
          "execution_count": 83
        }
      ]
    },
    {
      "cell_type": "code",
      "source": [
        "previsoes_final = []\n",
        "for previsao in previsoes:\n",
        "  if previsao['ALEGRIA'] > previsao['MEDO']:\n",
        "    previsoes_final.append('alegria')\n",
        "  else:\n",
        "    previsoes_final.append('medo')\n",
        "\n",
        "previsoes_final = np.array(previsoes_final)"
      ],
      "metadata": {
        "id": "CTYAK9cOGiHT"
      },
      "execution_count": null,
      "outputs": []
    },
    {
      "cell_type": "code",
      "source": [
        "previsoes_final"
      ],
      "metadata": {
        "colab": {
          "base_uri": "https://localhost:8080/"
        },
        "id": "Jpzs67ZFGkdD",
        "outputId": "fee6cddf-51b0-440e-cb7f-774f6030a29f"
      },
      "execution_count": null,
      "outputs": [
        {
          "output_type": "execute_result",
          "data": {
            "text/plain": [
              "array(['alegria', 'alegria', 'alegria', 'alegria', 'alegria', 'alegria',\n",
              "       'alegria', 'alegria', 'alegria', 'alegria', 'alegria', 'alegria',\n",
              "       'alegria', 'alegria', 'alegria', 'alegria', 'alegria', 'alegria',\n",
              "       'alegria', 'alegria', 'alegria', 'alegria', 'alegria', 'alegria',\n",
              "       'alegria', 'alegria', 'alegria', 'alegria', 'alegria', 'alegria',\n",
              "       'alegria', 'alegria', 'alegria', 'alegria', 'alegria', 'alegria',\n",
              "       'alegria', 'alegria', 'alegria', 'alegria', 'alegria', 'alegria',\n",
              "       'alegria', 'alegria', 'alegria', 'alegria', 'alegria', 'alegria',\n",
              "       'alegria', 'alegria', 'alegria', 'alegria', 'alegria', 'alegria',\n",
              "       'alegria', 'alegria', 'alegria', 'alegria', 'alegria', 'alegria',\n",
              "       'alegria', 'alegria', 'alegria', 'alegria', 'alegria', 'alegria',\n",
              "       'alegria', 'alegria', 'alegria', 'alegria', 'alegria', 'alegria',\n",
              "       'alegria', 'alegria', 'alegria', 'alegria', 'alegria', 'alegria',\n",
              "       'alegria', 'alegria', 'alegria', 'alegria', 'alegria', 'alegria',\n",
              "       'alegria', 'alegria', 'alegria', 'alegria', 'alegria', 'alegria',\n",
              "       'alegria', 'alegria', 'alegria', 'alegria', 'alegria', 'alegria',\n",
              "       'alegria', 'alegria', 'alegria', 'alegria', 'alegria', 'alegria',\n",
              "       'alegria', 'alegria', 'alegria', 'alegria', 'alegria', 'alegria',\n",
              "       'alegria', 'alegria', 'alegria', 'alegria', 'medo', 'medo', 'medo',\n",
              "       'medo', 'medo', 'medo', 'medo', 'medo', 'medo', 'medo', 'medo',\n",
              "       'medo', 'medo', 'medo', 'medo', 'medo', 'medo', 'medo', 'medo',\n",
              "       'medo', 'medo', 'medo', 'medo', 'medo', 'medo', 'medo', 'medo',\n",
              "       'medo', 'medo', 'medo', 'medo', 'medo', 'medo', 'medo', 'medo',\n",
              "       'medo', 'medo', 'medo', 'medo', 'medo', 'medo', 'medo', 'medo',\n",
              "       'medo', 'medo', 'medo', 'medo', 'medo', 'medo', 'medo', 'medo',\n",
              "       'medo', 'medo', 'medo', 'medo', 'medo', 'medo', 'medo', 'medo',\n",
              "       'medo', 'medo', 'medo', 'medo', 'medo', 'medo', 'medo', 'medo',\n",
              "       'medo', 'medo', 'medo', 'medo', 'medo', 'medo', 'medo', 'medo',\n",
              "       'medo', 'medo', 'medo', 'medo', 'medo', 'medo', 'medo', 'medo',\n",
              "       'medo'], dtype='<U7')"
            ]
          },
          "metadata": {},
          "execution_count": 85
        }
      ]
    },
    {
      "cell_type": "code",
      "source": [
        "respostas_reais = base_dados['emocao'].values\n",
        "respostas_reais"
      ],
      "metadata": {
        "colab": {
          "base_uri": "https://localhost:8080/"
        },
        "id": "MtE2oEIaGlmL",
        "outputId": "5eeee0c6-de19-4900-c5bc-4a41d13e7f25"
      },
      "execution_count": null,
      "outputs": [
        {
          "output_type": "execute_result",
          "data": {
            "text/plain": [
              "array(['alegria', 'alegria', 'alegria', 'alegria', 'alegria', 'alegria',\n",
              "       'alegria', 'alegria', 'alegria', 'alegria', 'alegria', 'alegria',\n",
              "       'alegria', 'alegria', 'alegria', 'alegria', 'alegria', 'alegria',\n",
              "       'alegria', 'alegria', 'alegria', 'alegria', 'alegria', 'alegria',\n",
              "       'alegria', 'alegria', 'alegria', 'alegria', 'alegria', 'alegria',\n",
              "       'alegria', 'alegria', 'alegria', 'alegria', 'alegria', 'alegria',\n",
              "       'alegria', 'alegria', 'alegria', 'alegria', 'alegria', 'alegria',\n",
              "       'alegria', 'alegria', 'alegria', 'alegria', 'alegria', 'alegria',\n",
              "       'alegria', 'alegria', 'alegria', 'alegria', 'alegria', 'alegria',\n",
              "       'alegria', 'alegria', 'alegria', 'alegria', 'alegria', 'alegria',\n",
              "       'alegria', 'alegria', 'alegria', 'alegria', 'alegria', 'alegria',\n",
              "       'alegria', 'alegria', 'alegria', 'alegria', 'alegria', 'alegria',\n",
              "       'alegria', 'alegria', 'alegria', 'alegria', 'alegria', 'alegria',\n",
              "       'alegria', 'alegria', 'alegria', 'alegria', 'alegria', 'alegria',\n",
              "       'alegria', 'alegria', 'alegria', 'alegria', 'alegria', 'alegria',\n",
              "       'alegria', 'alegria', 'alegria', 'alegria', 'alegria', 'alegria',\n",
              "       'alegria', 'alegria', 'alegria', 'alegria', 'alegria', 'alegria',\n",
              "       'alegria', 'alegria', 'alegria', 'alegria', 'alegria', 'alegria',\n",
              "       'alegria', 'alegria', 'alegria', 'alegria', 'medo', 'medo', 'medo',\n",
              "       'medo', 'medo', 'medo', 'medo', 'medo', 'medo', 'medo', 'medo',\n",
              "       'medo', 'medo', 'medo', 'medo', 'medo', 'medo', 'medo', 'medo',\n",
              "       'medo', 'medo', 'medo', 'medo', 'medo', 'medo', 'medo', 'medo',\n",
              "       'medo', 'medo', 'medo', 'medo', 'medo', 'medo', 'medo', 'medo',\n",
              "       'medo', 'medo', 'medo', 'medo', 'medo', 'medo', 'medo', 'medo',\n",
              "       'medo', 'medo', 'medo', 'medo', 'medo', 'medo', 'medo', 'medo',\n",
              "       'medo', 'medo', 'medo', 'medo', 'medo', 'medo', 'medo', 'medo',\n",
              "       'medo', 'medo', 'medo', 'medo', 'medo', 'medo', 'medo', 'medo',\n",
              "       'medo', 'medo', 'medo', 'medo', 'medo', 'medo', 'medo', 'medo',\n",
              "       'medo', 'medo', 'medo', 'medo', 'medo', 'medo', 'medo', 'medo',\n",
              "       'medo'], dtype=object)"
            ]
          },
          "metadata": {},
          "execution_count": 86
        }
      ]
    },
    {
      "cell_type": "code",
      "source": [
        "from sklearn.metrics import confusion_matrix, accuracy_score\n",
        "accuracy_score(respostas_reais, previsoes_final)"
      ],
      "metadata": {
        "colab": {
          "base_uri": "https://localhost:8080/"
        },
        "id": "sq0mdW8dGm8M",
        "outputId": "962a6eac-6cbd-44a2-cedc-679902059e7e"
      },
      "execution_count": null,
      "outputs": [
        {
          "output_type": "execute_result",
          "data": {
            "text/plain": [
              "1.0"
            ]
          },
          "metadata": {},
          "execution_count": 87
        }
      ]
    },
    {
      "cell_type": "code",
      "source": [
        "cm = confusion_matrix(respostas_reais, previsoes_final)\n",
        "cm"
      ],
      "metadata": {
        "colab": {
          "base_uri": "https://localhost:8080/"
        },
        "id": "c-WuixnNGoGt",
        "outputId": "1485b2a2-29d2-4bd8-f0bf-e73dd2482c93"
      },
      "execution_count": null,
      "outputs": [
        {
          "output_type": "execute_result",
          "data": {
            "text/plain": [
              "array([[112,   0],\n",
              "       [  0,  84]])"
            ]
          },
          "metadata": {},
          "execution_count": 88
        }
      ]
    },
    {
      "cell_type": "markdown",
      "source": [
        "# **AVALIAÇÃO NA BASE DE TESTE**"
      ],
      "metadata": {
        "id": "Phi6rT76Gruj"
      }
    },
    {
      "cell_type": "code",
      "source": [
        "base_dados_teste = pd.read_csv('/content/base_teste.txt', encoding = 'utf-8')"
      ],
      "metadata": {
        "id": "PwbmV0PCGx6L"
      },
      "execution_count": null,
      "outputs": []
    },
    {
      "cell_type": "code",
      "source": [
        "base_dados_teste.head()"
      ],
      "metadata": {
        "colab": {
          "base_uri": "https://localhost:8080/",
          "height": 206
        },
        "id": "L4DbepAPGzTD",
        "outputId": "94e10ff4-e70d-4024-86f0-b193a7ab048b"
      },
      "execution_count": null,
      "outputs": [
        {
          "output_type": "execute_result",
          "data": {
            "text/plain": [
              "                                    texto   emocao\n",
              "0           não precisei pagar o ingresso  alegria\n",
              "1             se eu ajeitar tudo fica bem  alegria\n",
              "2        minha fortuna ultrapassará a sua  alegria\n",
              "3                    sou muito afortunado  alegria\n",
              "4  é benéfico para todos esta nova medida  alegria"
            ],
            "text/html": [
              "\n",
              "  <div id=\"df-8901f715-74b6-47d0-b39c-08b791c0ba1f\" class=\"colab-df-container\">\n",
              "    <div>\n",
              "<style scoped>\n",
              "    .dataframe tbody tr th:only-of-type {\n",
              "        vertical-align: middle;\n",
              "    }\n",
              "\n",
              "    .dataframe tbody tr th {\n",
              "        vertical-align: top;\n",
              "    }\n",
              "\n",
              "    .dataframe thead th {\n",
              "        text-align: right;\n",
              "    }\n",
              "</style>\n",
              "<table border=\"1\" class=\"dataframe\">\n",
              "  <thead>\n",
              "    <tr style=\"text-align: right;\">\n",
              "      <th></th>\n",
              "      <th>texto</th>\n",
              "      <th>emocao</th>\n",
              "    </tr>\n",
              "  </thead>\n",
              "  <tbody>\n",
              "    <tr>\n",
              "      <th>0</th>\n",
              "      <td>não precisei pagar o ingresso</td>\n",
              "      <td>alegria</td>\n",
              "    </tr>\n",
              "    <tr>\n",
              "      <th>1</th>\n",
              "      <td>se eu ajeitar tudo fica bem</td>\n",
              "      <td>alegria</td>\n",
              "    </tr>\n",
              "    <tr>\n",
              "      <th>2</th>\n",
              "      <td>minha fortuna ultrapassará a sua</td>\n",
              "      <td>alegria</td>\n",
              "    </tr>\n",
              "    <tr>\n",
              "      <th>3</th>\n",
              "      <td>sou muito afortunado</td>\n",
              "      <td>alegria</td>\n",
              "    </tr>\n",
              "    <tr>\n",
              "      <th>4</th>\n",
              "      <td>é benéfico para todos esta nova medida</td>\n",
              "      <td>alegria</td>\n",
              "    </tr>\n",
              "  </tbody>\n",
              "</table>\n",
              "</div>\n",
              "    <div class=\"colab-df-buttons\">\n",
              "\n",
              "  <div class=\"colab-df-container\">\n",
              "    <button class=\"colab-df-convert\" onclick=\"convertToInteractive('df-8901f715-74b6-47d0-b39c-08b791c0ba1f')\"\n",
              "            title=\"Convert this dataframe to an interactive table.\"\n",
              "            style=\"display:none;\">\n",
              "\n",
              "  <svg xmlns=\"http://www.w3.org/2000/svg\" height=\"24px\" viewBox=\"0 -960 960 960\">\n",
              "    <path d=\"M120-120v-720h720v720H120Zm60-500h600v-160H180v160Zm220 220h160v-160H400v160Zm0 220h160v-160H400v160ZM180-400h160v-160H180v160Zm440 0h160v-160H620v160ZM180-180h160v-160H180v160Zm440 0h160v-160H620v160Z\"/>\n",
              "  </svg>\n",
              "    </button>\n",
              "\n",
              "  <style>\n",
              "    .colab-df-container {\n",
              "      display:flex;\n",
              "      gap: 12px;\n",
              "    }\n",
              "\n",
              "    .colab-df-convert {\n",
              "      background-color: #E8F0FE;\n",
              "      border: none;\n",
              "      border-radius: 50%;\n",
              "      cursor: pointer;\n",
              "      display: none;\n",
              "      fill: #1967D2;\n",
              "      height: 32px;\n",
              "      padding: 0 0 0 0;\n",
              "      width: 32px;\n",
              "    }\n",
              "\n",
              "    .colab-df-convert:hover {\n",
              "      background-color: #E2EBFA;\n",
              "      box-shadow: 0px 1px 2px rgba(60, 64, 67, 0.3), 0px 1px 3px 1px rgba(60, 64, 67, 0.15);\n",
              "      fill: #174EA6;\n",
              "    }\n",
              "\n",
              "    .colab-df-buttons div {\n",
              "      margin-bottom: 4px;\n",
              "    }\n",
              "\n",
              "    [theme=dark] .colab-df-convert {\n",
              "      background-color: #3B4455;\n",
              "      fill: #D2E3FC;\n",
              "    }\n",
              "\n",
              "    [theme=dark] .colab-df-convert:hover {\n",
              "      background-color: #434B5C;\n",
              "      box-shadow: 0px 1px 3px 1px rgba(0, 0, 0, 0.15);\n",
              "      filter: drop-shadow(0px 1px 2px rgba(0, 0, 0, 0.3));\n",
              "      fill: #FFFFFF;\n",
              "    }\n",
              "  </style>\n",
              "\n",
              "    <script>\n",
              "      const buttonEl =\n",
              "        document.querySelector('#df-8901f715-74b6-47d0-b39c-08b791c0ba1f button.colab-df-convert');\n",
              "      buttonEl.style.display =\n",
              "        google.colab.kernel.accessAllowed ? 'block' : 'none';\n",
              "\n",
              "      async function convertToInteractive(key) {\n",
              "        const element = document.querySelector('#df-8901f715-74b6-47d0-b39c-08b791c0ba1f');\n",
              "        const dataTable =\n",
              "          await google.colab.kernel.invokeFunction('convertToInteractive',\n",
              "                                                    [key], {});\n",
              "        if (!dataTable) return;\n",
              "\n",
              "        const docLinkHtml = 'Like what you see? Visit the ' +\n",
              "          '<a target=\"_blank\" href=https://colab.research.google.com/notebooks/data_table.ipynb>data table notebook</a>'\n",
              "          + ' to learn more about interactive tables.';\n",
              "        element.innerHTML = '';\n",
              "        dataTable['output_type'] = 'display_data';\n",
              "        await google.colab.output.renderOutput(dataTable, element);\n",
              "        const docLink = document.createElement('div');\n",
              "        docLink.innerHTML = docLinkHtml;\n",
              "        element.appendChild(docLink);\n",
              "      }\n",
              "    </script>\n",
              "  </div>\n",
              "\n",
              "\n",
              "<div id=\"df-7aba0d22-45c8-48b5-ad4e-1dbb776eeb3a\">\n",
              "  <button class=\"colab-df-quickchart\" onclick=\"quickchart('df-7aba0d22-45c8-48b5-ad4e-1dbb776eeb3a')\"\n",
              "            title=\"Suggest charts\"\n",
              "            style=\"display:none;\">\n",
              "\n",
              "<svg xmlns=\"http://www.w3.org/2000/svg\" height=\"24px\"viewBox=\"0 0 24 24\"\n",
              "     width=\"24px\">\n",
              "    <g>\n",
              "        <path d=\"M19 3H5c-1.1 0-2 .9-2 2v14c0 1.1.9 2 2 2h14c1.1 0 2-.9 2-2V5c0-1.1-.9-2-2-2zM9 17H7v-7h2v7zm4 0h-2V7h2v10zm4 0h-2v-4h2v4z\"/>\n",
              "    </g>\n",
              "</svg>\n",
              "  </button>\n",
              "\n",
              "<style>\n",
              "  .colab-df-quickchart {\n",
              "      --bg-color: #E8F0FE;\n",
              "      --fill-color: #1967D2;\n",
              "      --hover-bg-color: #E2EBFA;\n",
              "      --hover-fill-color: #174EA6;\n",
              "      --disabled-fill-color: #AAA;\n",
              "      --disabled-bg-color: #DDD;\n",
              "  }\n",
              "\n",
              "  [theme=dark] .colab-df-quickchart {\n",
              "      --bg-color: #3B4455;\n",
              "      --fill-color: #D2E3FC;\n",
              "      --hover-bg-color: #434B5C;\n",
              "      --hover-fill-color: #FFFFFF;\n",
              "      --disabled-bg-color: #3B4455;\n",
              "      --disabled-fill-color: #666;\n",
              "  }\n",
              "\n",
              "  .colab-df-quickchart {\n",
              "    background-color: var(--bg-color);\n",
              "    border: none;\n",
              "    border-radius: 50%;\n",
              "    cursor: pointer;\n",
              "    display: none;\n",
              "    fill: var(--fill-color);\n",
              "    height: 32px;\n",
              "    padding: 0;\n",
              "    width: 32px;\n",
              "  }\n",
              "\n",
              "  .colab-df-quickchart:hover {\n",
              "    background-color: var(--hover-bg-color);\n",
              "    box-shadow: 0 1px 2px rgba(60, 64, 67, 0.3), 0 1px 3px 1px rgba(60, 64, 67, 0.15);\n",
              "    fill: var(--button-hover-fill-color);\n",
              "  }\n",
              "\n",
              "  .colab-df-quickchart-complete:disabled,\n",
              "  .colab-df-quickchart-complete:disabled:hover {\n",
              "    background-color: var(--disabled-bg-color);\n",
              "    fill: var(--disabled-fill-color);\n",
              "    box-shadow: none;\n",
              "  }\n",
              "\n",
              "  .colab-df-spinner {\n",
              "    border: 2px solid var(--fill-color);\n",
              "    border-color: transparent;\n",
              "    border-bottom-color: var(--fill-color);\n",
              "    animation:\n",
              "      spin 1s steps(1) infinite;\n",
              "  }\n",
              "\n",
              "  @keyframes spin {\n",
              "    0% {\n",
              "      border-color: transparent;\n",
              "      border-bottom-color: var(--fill-color);\n",
              "      border-left-color: var(--fill-color);\n",
              "    }\n",
              "    20% {\n",
              "      border-color: transparent;\n",
              "      border-left-color: var(--fill-color);\n",
              "      border-top-color: var(--fill-color);\n",
              "    }\n",
              "    30% {\n",
              "      border-color: transparent;\n",
              "      border-left-color: var(--fill-color);\n",
              "      border-top-color: var(--fill-color);\n",
              "      border-right-color: var(--fill-color);\n",
              "    }\n",
              "    40% {\n",
              "      border-color: transparent;\n",
              "      border-right-color: var(--fill-color);\n",
              "      border-top-color: var(--fill-color);\n",
              "    }\n",
              "    60% {\n",
              "      border-color: transparent;\n",
              "      border-right-color: var(--fill-color);\n",
              "    }\n",
              "    80% {\n",
              "      border-color: transparent;\n",
              "      border-right-color: var(--fill-color);\n",
              "      border-bottom-color: var(--fill-color);\n",
              "    }\n",
              "    90% {\n",
              "      border-color: transparent;\n",
              "      border-bottom-color: var(--fill-color);\n",
              "    }\n",
              "  }\n",
              "</style>\n",
              "\n",
              "  <script>\n",
              "    async function quickchart(key) {\n",
              "      const quickchartButtonEl =\n",
              "        document.querySelector('#' + key + ' button');\n",
              "      quickchartButtonEl.disabled = true;  // To prevent multiple clicks.\n",
              "      quickchartButtonEl.classList.add('colab-df-spinner');\n",
              "      try {\n",
              "        const charts = await google.colab.kernel.invokeFunction(\n",
              "            'suggestCharts', [key], {});\n",
              "      } catch (error) {\n",
              "        console.error('Error during call to suggestCharts:', error);\n",
              "      }\n",
              "      quickchartButtonEl.classList.remove('colab-df-spinner');\n",
              "      quickchartButtonEl.classList.add('colab-df-quickchart-complete');\n",
              "    }\n",
              "    (() => {\n",
              "      let quickchartButtonEl =\n",
              "        document.querySelector('#df-7aba0d22-45c8-48b5-ad4e-1dbb776eeb3a button');\n",
              "      quickchartButtonEl.style.display =\n",
              "        google.colab.kernel.accessAllowed ? 'block' : 'none';\n",
              "    })();\n",
              "  </script>\n",
              "</div>\n",
              "\n",
              "    </div>\n",
              "  </div>\n"
            ],
            "application/vnd.google.colaboratory.intrinsic+json": {
              "type": "dataframe",
              "variable_name": "base_dados_teste",
              "summary": "{\n  \"name\": \"base_dados_teste\",\n  \"rows\": 84,\n  \"fields\": [\n    {\n      \"column\": \"texto\",\n      \"properties\": {\n        \"dtype\": \"string\",\n        \"num_unique_values\": 84,\n        \"samples\": [\n          \"tenho medo de ser advertida novamente\",\n          \"n\\u00e3o precisei pagar o ingresso\",\n          \"estou desconfiada de voc\\u00ea\"\n        ],\n        \"semantic_type\": \"\",\n        \"description\": \"\"\n      }\n    },\n    {\n      \"column\": \"emocao\",\n      \"properties\": {\n        \"dtype\": \"category\",\n        \"num_unique_values\": 2,\n        \"samples\": [\n          \"medo\",\n          \"alegria\"\n        ],\n        \"semantic_type\": \"\",\n        \"description\": \"\"\n      }\n    }\n  ]\n}"
            }
          },
          "metadata": {},
          "execution_count": 91
        }
      ]
    },
    {
      "cell_type": "code",
      "source": [
        "base_dados_teste['texto'] = base_dados_teste['texto'].apply(preprocessamento)"
      ],
      "metadata": {
        "id": "OZdabD3IG0JU"
      },
      "execution_count": null,
      "outputs": []
    },
    {
      "cell_type": "code",
      "source": [
        "base_dados_teste.head()"
      ],
      "metadata": {
        "colab": {
          "base_uri": "https://localhost:8080/",
          "height": 206
        },
        "id": "lZS0Q4IAG19c",
        "outputId": "053a5cc8-e1e3-470e-bac8-86ea679fe45f"
      },
      "execution_count": null,
      "outputs": [
        {
          "output_type": "execute_result",
          "data": {
            "text/plain": [
              "                     texto   emocao\n",
              "0  precisar pagar ingresso  alegria\n",
              "1            ajeitar ficar  alegria\n",
              "2      fortuna ultrapassar  alegria\n",
              "3                afortunar  alegria\n",
              "4          benéfico medida  alegria"
            ],
            "text/html": [
              "\n",
              "  <div id=\"df-18cc0fbf-9b96-4d00-90c2-2f79bb5eeff5\" class=\"colab-df-container\">\n",
              "    <div>\n",
              "<style scoped>\n",
              "    .dataframe tbody tr th:only-of-type {\n",
              "        vertical-align: middle;\n",
              "    }\n",
              "\n",
              "    .dataframe tbody tr th {\n",
              "        vertical-align: top;\n",
              "    }\n",
              "\n",
              "    .dataframe thead th {\n",
              "        text-align: right;\n",
              "    }\n",
              "</style>\n",
              "<table border=\"1\" class=\"dataframe\">\n",
              "  <thead>\n",
              "    <tr style=\"text-align: right;\">\n",
              "      <th></th>\n",
              "      <th>texto</th>\n",
              "      <th>emocao</th>\n",
              "    </tr>\n",
              "  </thead>\n",
              "  <tbody>\n",
              "    <tr>\n",
              "      <th>0</th>\n",
              "      <td>precisar pagar ingresso</td>\n",
              "      <td>alegria</td>\n",
              "    </tr>\n",
              "    <tr>\n",
              "      <th>1</th>\n",
              "      <td>ajeitar ficar</td>\n",
              "      <td>alegria</td>\n",
              "    </tr>\n",
              "    <tr>\n",
              "      <th>2</th>\n",
              "      <td>fortuna ultrapassar</td>\n",
              "      <td>alegria</td>\n",
              "    </tr>\n",
              "    <tr>\n",
              "      <th>3</th>\n",
              "      <td>afortunar</td>\n",
              "      <td>alegria</td>\n",
              "    </tr>\n",
              "    <tr>\n",
              "      <th>4</th>\n",
              "      <td>benéfico medida</td>\n",
              "      <td>alegria</td>\n",
              "    </tr>\n",
              "  </tbody>\n",
              "</table>\n",
              "</div>\n",
              "    <div class=\"colab-df-buttons\">\n",
              "\n",
              "  <div class=\"colab-df-container\">\n",
              "    <button class=\"colab-df-convert\" onclick=\"convertToInteractive('df-18cc0fbf-9b96-4d00-90c2-2f79bb5eeff5')\"\n",
              "            title=\"Convert this dataframe to an interactive table.\"\n",
              "            style=\"display:none;\">\n",
              "\n",
              "  <svg xmlns=\"http://www.w3.org/2000/svg\" height=\"24px\" viewBox=\"0 -960 960 960\">\n",
              "    <path d=\"M120-120v-720h720v720H120Zm60-500h600v-160H180v160Zm220 220h160v-160H400v160Zm0 220h160v-160H400v160ZM180-400h160v-160H180v160Zm440 0h160v-160H620v160ZM180-180h160v-160H180v160Zm440 0h160v-160H620v160Z\"/>\n",
              "  </svg>\n",
              "    </button>\n",
              "\n",
              "  <style>\n",
              "    .colab-df-container {\n",
              "      display:flex;\n",
              "      gap: 12px;\n",
              "    }\n",
              "\n",
              "    .colab-df-convert {\n",
              "      background-color: #E8F0FE;\n",
              "      border: none;\n",
              "      border-radius: 50%;\n",
              "      cursor: pointer;\n",
              "      display: none;\n",
              "      fill: #1967D2;\n",
              "      height: 32px;\n",
              "      padding: 0 0 0 0;\n",
              "      width: 32px;\n",
              "    }\n",
              "\n",
              "    .colab-df-convert:hover {\n",
              "      background-color: #E2EBFA;\n",
              "      box-shadow: 0px 1px 2px rgba(60, 64, 67, 0.3), 0px 1px 3px 1px rgba(60, 64, 67, 0.15);\n",
              "      fill: #174EA6;\n",
              "    }\n",
              "\n",
              "    .colab-df-buttons div {\n",
              "      margin-bottom: 4px;\n",
              "    }\n",
              "\n",
              "    [theme=dark] .colab-df-convert {\n",
              "      background-color: #3B4455;\n",
              "      fill: #D2E3FC;\n",
              "    }\n",
              "\n",
              "    [theme=dark] .colab-df-convert:hover {\n",
              "      background-color: #434B5C;\n",
              "      box-shadow: 0px 1px 3px 1px rgba(0, 0, 0, 0.15);\n",
              "      filter: drop-shadow(0px 1px 2px rgba(0, 0, 0, 0.3));\n",
              "      fill: #FFFFFF;\n",
              "    }\n",
              "  </style>\n",
              "\n",
              "    <script>\n",
              "      const buttonEl =\n",
              "        document.querySelector('#df-18cc0fbf-9b96-4d00-90c2-2f79bb5eeff5 button.colab-df-convert');\n",
              "      buttonEl.style.display =\n",
              "        google.colab.kernel.accessAllowed ? 'block' : 'none';\n",
              "\n",
              "      async function convertToInteractive(key) {\n",
              "        const element = document.querySelector('#df-18cc0fbf-9b96-4d00-90c2-2f79bb5eeff5');\n",
              "        const dataTable =\n",
              "          await google.colab.kernel.invokeFunction('convertToInteractive',\n",
              "                                                    [key], {});\n",
              "        if (!dataTable) return;\n",
              "\n",
              "        const docLinkHtml = 'Like what you see? Visit the ' +\n",
              "          '<a target=\"_blank\" href=https://colab.research.google.com/notebooks/data_table.ipynb>data table notebook</a>'\n",
              "          + ' to learn more about interactive tables.';\n",
              "        element.innerHTML = '';\n",
              "        dataTable['output_type'] = 'display_data';\n",
              "        await google.colab.output.renderOutput(dataTable, element);\n",
              "        const docLink = document.createElement('div');\n",
              "        docLink.innerHTML = docLinkHtml;\n",
              "        element.appendChild(docLink);\n",
              "      }\n",
              "    </script>\n",
              "  </div>\n",
              "\n",
              "\n",
              "<div id=\"df-e44c70b4-bc96-460b-847c-92b04edddda2\">\n",
              "  <button class=\"colab-df-quickchart\" onclick=\"quickchart('df-e44c70b4-bc96-460b-847c-92b04edddda2')\"\n",
              "            title=\"Suggest charts\"\n",
              "            style=\"display:none;\">\n",
              "\n",
              "<svg xmlns=\"http://www.w3.org/2000/svg\" height=\"24px\"viewBox=\"0 0 24 24\"\n",
              "     width=\"24px\">\n",
              "    <g>\n",
              "        <path d=\"M19 3H5c-1.1 0-2 .9-2 2v14c0 1.1.9 2 2 2h14c1.1 0 2-.9 2-2V5c0-1.1-.9-2-2-2zM9 17H7v-7h2v7zm4 0h-2V7h2v10zm4 0h-2v-4h2v4z\"/>\n",
              "    </g>\n",
              "</svg>\n",
              "  </button>\n",
              "\n",
              "<style>\n",
              "  .colab-df-quickchart {\n",
              "      --bg-color: #E8F0FE;\n",
              "      --fill-color: #1967D2;\n",
              "      --hover-bg-color: #E2EBFA;\n",
              "      --hover-fill-color: #174EA6;\n",
              "      --disabled-fill-color: #AAA;\n",
              "      --disabled-bg-color: #DDD;\n",
              "  }\n",
              "\n",
              "  [theme=dark] .colab-df-quickchart {\n",
              "      --bg-color: #3B4455;\n",
              "      --fill-color: #D2E3FC;\n",
              "      --hover-bg-color: #434B5C;\n",
              "      --hover-fill-color: #FFFFFF;\n",
              "      --disabled-bg-color: #3B4455;\n",
              "      --disabled-fill-color: #666;\n",
              "  }\n",
              "\n",
              "  .colab-df-quickchart {\n",
              "    background-color: var(--bg-color);\n",
              "    border: none;\n",
              "    border-radius: 50%;\n",
              "    cursor: pointer;\n",
              "    display: none;\n",
              "    fill: var(--fill-color);\n",
              "    height: 32px;\n",
              "    padding: 0;\n",
              "    width: 32px;\n",
              "  }\n",
              "\n",
              "  .colab-df-quickchart:hover {\n",
              "    background-color: var(--hover-bg-color);\n",
              "    box-shadow: 0 1px 2px rgba(60, 64, 67, 0.3), 0 1px 3px 1px rgba(60, 64, 67, 0.15);\n",
              "    fill: var(--button-hover-fill-color);\n",
              "  }\n",
              "\n",
              "  .colab-df-quickchart-complete:disabled,\n",
              "  .colab-df-quickchart-complete:disabled:hover {\n",
              "    background-color: var(--disabled-bg-color);\n",
              "    fill: var(--disabled-fill-color);\n",
              "    box-shadow: none;\n",
              "  }\n",
              "\n",
              "  .colab-df-spinner {\n",
              "    border: 2px solid var(--fill-color);\n",
              "    border-color: transparent;\n",
              "    border-bottom-color: var(--fill-color);\n",
              "    animation:\n",
              "      spin 1s steps(1) infinite;\n",
              "  }\n",
              "\n",
              "  @keyframes spin {\n",
              "    0% {\n",
              "      border-color: transparent;\n",
              "      border-bottom-color: var(--fill-color);\n",
              "      border-left-color: var(--fill-color);\n",
              "    }\n",
              "    20% {\n",
              "      border-color: transparent;\n",
              "      border-left-color: var(--fill-color);\n",
              "      border-top-color: var(--fill-color);\n",
              "    }\n",
              "    30% {\n",
              "      border-color: transparent;\n",
              "      border-left-color: var(--fill-color);\n",
              "      border-top-color: var(--fill-color);\n",
              "      border-right-color: var(--fill-color);\n",
              "    }\n",
              "    40% {\n",
              "      border-color: transparent;\n",
              "      border-right-color: var(--fill-color);\n",
              "      border-top-color: var(--fill-color);\n",
              "    }\n",
              "    60% {\n",
              "      border-color: transparent;\n",
              "      border-right-color: var(--fill-color);\n",
              "    }\n",
              "    80% {\n",
              "      border-color: transparent;\n",
              "      border-right-color: var(--fill-color);\n",
              "      border-bottom-color: var(--fill-color);\n",
              "    }\n",
              "    90% {\n",
              "      border-color: transparent;\n",
              "      border-bottom-color: var(--fill-color);\n",
              "    }\n",
              "  }\n",
              "</style>\n",
              "\n",
              "  <script>\n",
              "    async function quickchart(key) {\n",
              "      const quickchartButtonEl =\n",
              "        document.querySelector('#' + key + ' button');\n",
              "      quickchartButtonEl.disabled = true;  // To prevent multiple clicks.\n",
              "      quickchartButtonEl.classList.add('colab-df-spinner');\n",
              "      try {\n",
              "        const charts = await google.colab.kernel.invokeFunction(\n",
              "            'suggestCharts', [key], {});\n",
              "      } catch (error) {\n",
              "        console.error('Error during call to suggestCharts:', error);\n",
              "      }\n",
              "      quickchartButtonEl.classList.remove('colab-df-spinner');\n",
              "      quickchartButtonEl.classList.add('colab-df-quickchart-complete');\n",
              "    }\n",
              "    (() => {\n",
              "      let quickchartButtonEl =\n",
              "        document.querySelector('#df-e44c70b4-bc96-460b-847c-92b04edddda2 button');\n",
              "      quickchartButtonEl.style.display =\n",
              "        google.colab.kernel.accessAllowed ? 'block' : 'none';\n",
              "    })();\n",
              "  </script>\n",
              "</div>\n",
              "\n",
              "    </div>\n",
              "  </div>\n"
            ],
            "application/vnd.google.colaboratory.intrinsic+json": {
              "type": "dataframe",
              "variable_name": "base_dados_teste",
              "summary": "{\n  \"name\": \"base_dados_teste\",\n  \"rows\": 84,\n  \"fields\": [\n    {\n      \"column\": \"texto\",\n      \"properties\": {\n        \"dtype\": \"string\",\n        \"num_unique_values\": 83,\n        \"samples\": [\n          \"estimar fam\\u00edlia\",\n          \"precisar pagar ingresso\",\n          \"consentir or\\u00e7amento a o cliente\"\n        ],\n        \"semantic_type\": \"\",\n        \"description\": \"\"\n      }\n    },\n    {\n      \"column\": \"emocao\",\n      \"properties\": {\n        \"dtype\": \"category\",\n        \"num_unique_values\": 2,\n        \"samples\": [\n          \"medo\",\n          \"alegria\"\n        ],\n        \"semantic_type\": \"\",\n        \"description\": \"\"\n      }\n    }\n  ]\n}"
            }
          },
          "metadata": {},
          "execution_count": 93
        }
      ]
    },
    {
      "cell_type": "code",
      "source": [
        "previsoes = []\n",
        "for texto in base_dados_teste['texto']:\n",
        "  #print(texto)\n",
        "  previsao = modelo_carregado(texto)\n",
        "  previsoes.append(previsao.cats)"
      ],
      "metadata": {
        "id": "rNsDmwqWG2-U"
      },
      "execution_count": null,
      "outputs": []
    },
    {
      "cell_type": "code",
      "source": [
        "previsoes_final = []\n",
        "for previsao in previsoes:\n",
        "  if previsao['ALEGRIA'] > previsao['MEDO']:\n",
        "    previsoes_final.append('alegria')\n",
        "  else:\n",
        "    previsoes_final.append('medo')\n",
        "\n",
        "previsoes_final = np.array(previsoes_final)"
      ],
      "metadata": {
        "id": "xp3Ev4bjG4Q7"
      },
      "execution_count": null,
      "outputs": []
    },
    {
      "cell_type": "code",
      "source": [
        "respostas_reais = base_dados_teste['emocao'].values"
      ],
      "metadata": {
        "id": "Xtnk6ENkG5oU"
      },
      "execution_count": null,
      "outputs": []
    },
    {
      "cell_type": "code",
      "source": [
        "accuracy_score(respostas_reais, previsoes_final)"
      ],
      "metadata": {
        "id": "kqPZuIibG6tD",
        "outputId": "37949b56-4628-492b-a83c-34a501cc4e61",
        "colab": {
          "base_uri": "https://localhost:8080/"
        }
      },
      "execution_count": null,
      "outputs": [
        {
          "output_type": "execute_result",
          "data": {
            "text/plain": [
              "0.6428571428571429"
            ]
          },
          "metadata": {},
          "execution_count": 97
        }
      ]
    },
    {
      "cell_type": "code",
      "source": [
        "cm = confusion_matrix(respostas_reais, previsoes_final)\n",
        "cm"
      ],
      "metadata": {
        "id": "iGgXuoyJG7rj",
        "outputId": "51d2c1fc-9e8c-4ae9-a7b2-21d391083c82",
        "colab": {
          "base_uri": "https://localhost:8080/"
        }
      },
      "execution_count": null,
      "outputs": [
        {
          "output_type": "execute_result",
          "data": {
            "text/plain": [
              "array([[33, 15],\n",
              "       [15, 21]])"
            ]
          },
          "metadata": {},
          "execution_count": 98
        }
      ]
    }
  ]
}